{
  "nbformat": 4,
  "nbformat_minor": 0,
  "metadata": {
    "colab": {
      "provenance": [],
      "gpuType": "V28",
      "authorship_tag": "ABX9TyPJZna/qzezWJgmIIQ3hNsw",
      "include_colab_link": true
    },
    "kernelspec": {
      "name": "python3",
      "display_name": "Python 3"
    },
    "language_info": {
      "name": "python"
    },
    "accelerator": "TPU",
    "widgets": {
      "application/vnd.jupyter.widget-state+json": {
        "2d6b72f1338d4c39832078338d86c0bb": {
          "model_module": "@jupyter-widgets/controls",
          "model_name": "HBoxModel",
          "model_module_version": "1.5.0",
          "state": {
            "_dom_classes": [],
            "_model_module": "@jupyter-widgets/controls",
            "_model_module_version": "1.5.0",
            "_model_name": "HBoxModel",
            "_view_count": null,
            "_view_module": "@jupyter-widgets/controls",
            "_view_module_version": "1.5.0",
            "_view_name": "HBoxView",
            "box_style": "",
            "children": [
              "IPY_MODEL_ae439ba458b04d55b2659d55e44cabe5",
              "IPY_MODEL_c08476dea1314610b85beba3fb3864a7",
              "IPY_MODEL_7181031610a14cf289df3c7ae1edf55c"
            ],
            "layout": "IPY_MODEL_f8216d176a2344dda1f9cadb9fc04dba"
          }
        },
        "ae439ba458b04d55b2659d55e44cabe5": {
          "model_module": "@jupyter-widgets/controls",
          "model_name": "HTMLModel",
          "model_module_version": "1.5.0",
          "state": {
            "_dom_classes": [],
            "_model_module": "@jupyter-widgets/controls",
            "_model_module_version": "1.5.0",
            "_model_name": "HTMLModel",
            "_view_count": null,
            "_view_module": "@jupyter-widgets/controls",
            "_view_module_version": "1.5.0",
            "_view_name": "HTMLView",
            "description": "",
            "description_tooltip": null,
            "layout": "IPY_MODEL_37f12dc5844b49bb8b997fa2c3669c5c",
            "placeholder": "​",
            "style": "IPY_MODEL_943130acc1354b34a15f12ef7284a79e",
            "value": "100%"
          }
        },
        "c08476dea1314610b85beba3fb3864a7": {
          "model_module": "@jupyter-widgets/controls",
          "model_name": "FloatProgressModel",
          "model_module_version": "1.5.0",
          "state": {
            "_dom_classes": [],
            "_model_module": "@jupyter-widgets/controls",
            "_model_module_version": "1.5.0",
            "_model_name": "FloatProgressModel",
            "_view_count": null,
            "_view_module": "@jupyter-widgets/controls",
            "_view_module_version": "1.5.0",
            "_view_name": "ProgressView",
            "bar_style": "success",
            "description": "",
            "description_tooltip": null,
            "layout": "IPY_MODEL_f8f0f51e2fbd4cec849fdc54ea87f547",
            "max": 941,
            "min": 0,
            "orientation": "horizontal",
            "style": "IPY_MODEL_933ab5fadb334d98a74ab634f7d93e39",
            "value": 941
          }
        },
        "7181031610a14cf289df3c7ae1edf55c": {
          "model_module": "@jupyter-widgets/controls",
          "model_name": "HTMLModel",
          "model_module_version": "1.5.0",
          "state": {
            "_dom_classes": [],
            "_model_module": "@jupyter-widgets/controls",
            "_model_module_version": "1.5.0",
            "_model_name": "HTMLModel",
            "_view_count": null,
            "_view_module": "@jupyter-widgets/controls",
            "_view_module_version": "1.5.0",
            "_view_name": "HTMLView",
            "description": "",
            "description_tooltip": null,
            "layout": "IPY_MODEL_d1ef5e811299482f8d209cd35484e323",
            "placeholder": "​",
            "style": "IPY_MODEL_fd62e052e4aa4c1296243f246e9f2086",
            "value": " 941/941 [00:06&lt;00:00, 153.75it/s]"
          }
        },
        "f8216d176a2344dda1f9cadb9fc04dba": {
          "model_module": "@jupyter-widgets/base",
          "model_name": "LayoutModel",
          "model_module_version": "1.2.0",
          "state": {
            "_model_module": "@jupyter-widgets/base",
            "_model_module_version": "1.2.0",
            "_model_name": "LayoutModel",
            "_view_count": null,
            "_view_module": "@jupyter-widgets/base",
            "_view_module_version": "1.2.0",
            "_view_name": "LayoutView",
            "align_content": null,
            "align_items": null,
            "align_self": null,
            "border": null,
            "bottom": null,
            "display": null,
            "flex": null,
            "flex_flow": null,
            "grid_area": null,
            "grid_auto_columns": null,
            "grid_auto_flow": null,
            "grid_auto_rows": null,
            "grid_column": null,
            "grid_gap": null,
            "grid_row": null,
            "grid_template_areas": null,
            "grid_template_columns": null,
            "grid_template_rows": null,
            "height": null,
            "justify_content": null,
            "justify_items": null,
            "left": null,
            "margin": null,
            "max_height": null,
            "max_width": null,
            "min_height": null,
            "min_width": null,
            "object_fit": null,
            "object_position": null,
            "order": null,
            "overflow": null,
            "overflow_x": null,
            "overflow_y": null,
            "padding": null,
            "right": null,
            "top": null,
            "visibility": null,
            "width": null
          }
        },
        "37f12dc5844b49bb8b997fa2c3669c5c": {
          "model_module": "@jupyter-widgets/base",
          "model_name": "LayoutModel",
          "model_module_version": "1.2.0",
          "state": {
            "_model_module": "@jupyter-widgets/base",
            "_model_module_version": "1.2.0",
            "_model_name": "LayoutModel",
            "_view_count": null,
            "_view_module": "@jupyter-widgets/base",
            "_view_module_version": "1.2.0",
            "_view_name": "LayoutView",
            "align_content": null,
            "align_items": null,
            "align_self": null,
            "border": null,
            "bottom": null,
            "display": null,
            "flex": null,
            "flex_flow": null,
            "grid_area": null,
            "grid_auto_columns": null,
            "grid_auto_flow": null,
            "grid_auto_rows": null,
            "grid_column": null,
            "grid_gap": null,
            "grid_row": null,
            "grid_template_areas": null,
            "grid_template_columns": null,
            "grid_template_rows": null,
            "height": null,
            "justify_content": null,
            "justify_items": null,
            "left": null,
            "margin": null,
            "max_height": null,
            "max_width": null,
            "min_height": null,
            "min_width": null,
            "object_fit": null,
            "object_position": null,
            "order": null,
            "overflow": null,
            "overflow_x": null,
            "overflow_y": null,
            "padding": null,
            "right": null,
            "top": null,
            "visibility": null,
            "width": null
          }
        },
        "943130acc1354b34a15f12ef7284a79e": {
          "model_module": "@jupyter-widgets/controls",
          "model_name": "DescriptionStyleModel",
          "model_module_version": "1.5.0",
          "state": {
            "_model_module": "@jupyter-widgets/controls",
            "_model_module_version": "1.5.0",
            "_model_name": "DescriptionStyleModel",
            "_view_count": null,
            "_view_module": "@jupyter-widgets/base",
            "_view_module_version": "1.2.0",
            "_view_name": "StyleView",
            "description_width": ""
          }
        },
        "f8f0f51e2fbd4cec849fdc54ea87f547": {
          "model_module": "@jupyter-widgets/base",
          "model_name": "LayoutModel",
          "model_module_version": "1.2.0",
          "state": {
            "_model_module": "@jupyter-widgets/base",
            "_model_module_version": "1.2.0",
            "_model_name": "LayoutModel",
            "_view_count": null,
            "_view_module": "@jupyter-widgets/base",
            "_view_module_version": "1.2.0",
            "_view_name": "LayoutView",
            "align_content": null,
            "align_items": null,
            "align_self": null,
            "border": null,
            "bottom": null,
            "display": null,
            "flex": null,
            "flex_flow": null,
            "grid_area": null,
            "grid_auto_columns": null,
            "grid_auto_flow": null,
            "grid_auto_rows": null,
            "grid_column": null,
            "grid_gap": null,
            "grid_row": null,
            "grid_template_areas": null,
            "grid_template_columns": null,
            "grid_template_rows": null,
            "height": null,
            "justify_content": null,
            "justify_items": null,
            "left": null,
            "margin": null,
            "max_height": null,
            "max_width": null,
            "min_height": null,
            "min_width": null,
            "object_fit": null,
            "object_position": null,
            "order": null,
            "overflow": null,
            "overflow_x": null,
            "overflow_y": null,
            "padding": null,
            "right": null,
            "top": null,
            "visibility": null,
            "width": null
          }
        },
        "933ab5fadb334d98a74ab634f7d93e39": {
          "model_module": "@jupyter-widgets/controls",
          "model_name": "ProgressStyleModel",
          "model_module_version": "1.5.0",
          "state": {
            "_model_module": "@jupyter-widgets/controls",
            "_model_module_version": "1.5.0",
            "_model_name": "ProgressStyleModel",
            "_view_count": null,
            "_view_module": "@jupyter-widgets/base",
            "_view_module_version": "1.2.0",
            "_view_name": "StyleView",
            "bar_color": null,
            "description_width": ""
          }
        },
        "d1ef5e811299482f8d209cd35484e323": {
          "model_module": "@jupyter-widgets/base",
          "model_name": "LayoutModel",
          "model_module_version": "1.2.0",
          "state": {
            "_model_module": "@jupyter-widgets/base",
            "_model_module_version": "1.2.0",
            "_model_name": "LayoutModel",
            "_view_count": null,
            "_view_module": "@jupyter-widgets/base",
            "_view_module_version": "1.2.0",
            "_view_name": "LayoutView",
            "align_content": null,
            "align_items": null,
            "align_self": null,
            "border": null,
            "bottom": null,
            "display": null,
            "flex": null,
            "flex_flow": null,
            "grid_area": null,
            "grid_auto_columns": null,
            "grid_auto_flow": null,
            "grid_auto_rows": null,
            "grid_column": null,
            "grid_gap": null,
            "grid_row": null,
            "grid_template_areas": null,
            "grid_template_columns": null,
            "grid_template_rows": null,
            "height": null,
            "justify_content": null,
            "justify_items": null,
            "left": null,
            "margin": null,
            "max_height": null,
            "max_width": null,
            "min_height": null,
            "min_width": null,
            "object_fit": null,
            "object_position": null,
            "order": null,
            "overflow": null,
            "overflow_x": null,
            "overflow_y": null,
            "padding": null,
            "right": null,
            "top": null,
            "visibility": null,
            "width": null
          }
        },
        "fd62e052e4aa4c1296243f246e9f2086": {
          "model_module": "@jupyter-widgets/controls",
          "model_name": "DescriptionStyleModel",
          "model_module_version": "1.5.0",
          "state": {
            "_model_module": "@jupyter-widgets/controls",
            "_model_module_version": "1.5.0",
            "_model_name": "DescriptionStyleModel",
            "_view_count": null,
            "_view_module": "@jupyter-widgets/base",
            "_view_module_version": "1.2.0",
            "_view_name": "StyleView",
            "description_width": ""
          }
        }
      }
    }
  },
  "cells": [
    {
      "cell_type": "markdown",
      "metadata": {
        "id": "view-in-github",
        "colab_type": "text"
      },
      "source": [
        "<a href=\"https://colab.research.google.com/github/pythonuzgit/elmurodov/blob/master/Graph%20Neural%20Network/Graph_Neural_Network_in_Natural_Language_processing_with_spacexdataset.ipynb\" target=\"_parent\"><img src=\"https://colab.research.google.com/assets/colab-badge.svg\" alt=\"Open In Colab\"/></a>"
      ]
    },
    {
      "cell_type": "code",
      "execution_count": null,
      "metadata": {
        "colab": {
          "base_uri": "https://localhost:8080/"
        },
        "id": "2bx3PjxRWeRu",
        "outputId": "7ab6254a-5ead-4b56-8ccb-509de830f267"
      },
      "outputs": [
        {
          "output_type": "stream",
          "name": "stdout",
          "text": [
            "Collecting torch_geometric\n",
            "  Downloading torch_geometric-2.5.3-py3-none-any.whl.metadata (64 kB)\n",
            "\u001b[2K     \u001b[90m━━━━━━━━━━━━━━━━━━━━━━━━━━━━━━━━━━━━━━━━\u001b[0m \u001b[32m64.2/64.2 kB\u001b[0m \u001b[31m212.5 kB/s\u001b[0m eta \u001b[36m0:00:00\u001b[0m\n",
            "\u001b[?25hRequirement already satisfied: tqdm in /usr/local/lib/python3.10/dist-packages (from torch_geometric) (4.66.4)\n",
            "Requirement already satisfied: numpy in /usr/local/lib/python3.10/dist-packages (from torch_geometric) (1.26.4)\n",
            "Requirement already satisfied: scipy in /usr/local/lib/python3.10/dist-packages (from torch_geometric) (1.13.1)\n",
            "Requirement already satisfied: fsspec in /usr/local/lib/python3.10/dist-packages (from torch_geometric) (2024.6.1)\n",
            "Requirement already satisfied: jinja2 in /usr/local/lib/python3.10/dist-packages (from torch_geometric) (3.1.4)\n",
            "Collecting aiohttp (from torch_geometric)\n",
            "  Downloading aiohttp-3.10.0-cp310-cp310-manylinux_2_17_x86_64.manylinux2014_x86_64.whl.metadata (7.5 kB)\n",
            "Requirement already satisfied: requests in /usr/local/lib/python3.10/dist-packages (from torch_geometric) (2.31.0)\n",
            "Requirement already satisfied: pyparsing in /usr/local/lib/python3.10/dist-packages (from torch_geometric) (3.1.2)\n",
            "Requirement already satisfied: scikit-learn in /usr/local/lib/python3.10/dist-packages (from torch_geometric) (1.3.2)\n",
            "Requirement already satisfied: psutil>=5.8.0 in /usr/local/lib/python3.10/dist-packages (from torch_geometric) (5.9.5)\n",
            "Collecting aiohappyeyeballs>=2.3.0 (from aiohttp->torch_geometric)\n",
            "  Downloading aiohappyeyeballs-2.3.4-py3-none-any.whl.metadata (5.6 kB)\n",
            "Collecting aiosignal>=1.1.2 (from aiohttp->torch_geometric)\n",
            "  Downloading aiosignal-1.3.1-py3-none-any.whl.metadata (4.0 kB)\n",
            "Requirement already satisfied: attrs>=17.3.0 in /usr/local/lib/python3.10/dist-packages (from aiohttp->torch_geometric) (23.2.0)\n",
            "Collecting frozenlist>=1.1.1 (from aiohttp->torch_geometric)\n",
            "  Downloading frozenlist-1.4.1-cp310-cp310-manylinux_2_5_x86_64.manylinux1_x86_64.manylinux_2_17_x86_64.manylinux2014_x86_64.whl.metadata (12 kB)\n",
            "Collecting multidict<7.0,>=4.5 (from aiohttp->torch_geometric)\n",
            "  Downloading multidict-6.0.5-cp310-cp310-manylinux_2_17_x86_64.manylinux2014_x86_64.whl.metadata (4.2 kB)\n",
            "Collecting yarl<2.0,>=1.0 (from aiohttp->torch_geometric)\n",
            "  Downloading yarl-1.9.4-cp310-cp310-manylinux_2_17_x86_64.manylinux2014_x86_64.whl.metadata (31 kB)\n",
            "Collecting async-timeout<5.0,>=4.0 (from aiohttp->torch_geometric)\n",
            "  Downloading async_timeout-4.0.3-py3-none-any.whl.metadata (4.2 kB)\n",
            "Requirement already satisfied: MarkupSafe>=2.0 in /usr/local/lib/python3.10/dist-packages (from jinja2->torch_geometric) (2.1.5)\n",
            "Requirement already satisfied: charset-normalizer<4,>=2 in /usr/local/lib/python3.10/dist-packages (from requests->torch_geometric) (3.3.2)\n",
            "Requirement already satisfied: idna<4,>=2.5 in /usr/local/lib/python3.10/dist-packages (from requests->torch_geometric) (3.7)\n",
            "Requirement already satisfied: urllib3<3,>=1.21.1 in /usr/local/lib/python3.10/dist-packages (from requests->torch_geometric) (2.0.7)\n",
            "Requirement already satisfied: certifi>=2017.4.17 in /usr/local/lib/python3.10/dist-packages (from requests->torch_geometric) (2024.7.4)\n",
            "Requirement already satisfied: joblib>=1.1.1 in /usr/local/lib/python3.10/dist-packages (from scikit-learn->torch_geometric) (1.4.2)\n",
            "Requirement already satisfied: threadpoolctl>=2.0.0 in /usr/local/lib/python3.10/dist-packages (from scikit-learn->torch_geometric) (3.5.0)\n",
            "Downloading torch_geometric-2.5.3-py3-none-any.whl (1.1 MB)\n",
            "\u001b[2K   \u001b[90m━━━━━━━━━━━━━━━━━━━━━━━━━━━━━━━━━━━━━━━━\u001b[0m \u001b[32m1.1/1.1 MB\u001b[0m \u001b[31m6.5 MB/s\u001b[0m eta \u001b[36m0:00:00\u001b[0m\n",
            "\u001b[?25hDownloading aiohttp-3.10.0-cp310-cp310-manylinux_2_17_x86_64.manylinux2014_x86_64.whl (1.2 MB)\n",
            "\u001b[2K   \u001b[90m━━━━━━━━━━━━━━━━━━━━━━━━━━━━━━━━━━━━━━━━\u001b[0m \u001b[32m1.2/1.2 MB\u001b[0m \u001b[31m22.1 MB/s\u001b[0m eta \u001b[36m0:00:00\u001b[0m\n",
            "\u001b[?25hDownloading aiohappyeyeballs-2.3.4-py3-none-any.whl (12 kB)\n",
            "Downloading aiosignal-1.3.1-py3-none-any.whl (7.6 kB)\n",
            "Downloading async_timeout-4.0.3-py3-none-any.whl (5.7 kB)\n",
            "Downloading frozenlist-1.4.1-cp310-cp310-manylinux_2_5_x86_64.manylinux1_x86_64.manylinux_2_17_x86_64.manylinux2014_x86_64.whl (239 kB)\n",
            "\u001b[2K   \u001b[90m━━━━━━━━━━━━━━━━━━━━━━━━━━━━━━━━━━━━━━━━\u001b[0m \u001b[32m239.5/239.5 kB\u001b[0m \u001b[31m16.3 MB/s\u001b[0m eta \u001b[36m0:00:00\u001b[0m\n",
            "\u001b[?25hDownloading multidict-6.0.5-cp310-cp310-manylinux_2_17_x86_64.manylinux2014_x86_64.whl (124 kB)\n",
            "\u001b[2K   \u001b[90m━━━━━━━━━━━━━━━━━━━━━━━━━━━━━━━━━━━━━━━━\u001b[0m \u001b[32m124.3/124.3 kB\u001b[0m \u001b[31m9.9 MB/s\u001b[0m eta \u001b[36m0:00:00\u001b[0m\n",
            "\u001b[?25hDownloading yarl-1.9.4-cp310-cp310-manylinux_2_17_x86_64.manylinux2014_x86_64.whl (301 kB)\n",
            "\u001b[2K   \u001b[90m━━━━━━━━━━━━━━━━━━━━━━━━━━━━━━━━━━━━━━━━\u001b[0m \u001b[32m301.6/301.6 kB\u001b[0m \u001b[31m21.8 MB/s\u001b[0m eta \u001b[36m0:00:00\u001b[0m\n",
            "\u001b[?25hInstalling collected packages: multidict, frozenlist, async-timeout, aiohappyeyeballs, yarl, aiosignal, aiohttp, torch_geometric\n",
            "Successfully installed aiohappyeyeballs-2.3.4 aiohttp-3.10.0 aiosignal-1.3.1 async-timeout-4.0.3 frozenlist-1.4.1 multidict-6.0.5 torch_geometric-2.5.3 yarl-1.9.4\n"
          ]
        }
      ],
      "source": [
        "!pip install torch_geometric"
      ]
    },
    {
      "cell_type": "code",
      "source": [
        "!kaggle datasets download -d gallo33henrique/twitter-nlp-spacex"
      ],
      "metadata": {
        "colab": {
          "base_uri": "https://localhost:8080/"
        },
        "id": "NrYa5AyoWjIL",
        "outputId": "62f9934e-d5f1-4811-bf0d-a8da6979f8ba"
      },
      "execution_count": null,
      "outputs": [
        {
          "output_type": "stream",
          "name": "stdout",
          "text": [
            "Dataset URL: https://www.kaggle.com/datasets/gallo33henrique/twitter-nlp-spacex\n",
            "License(s): MIT\n",
            "Downloading twitter-nlp-spacex.zip to /content\n",
            "  0% 0.00/28.1k [00:00<?, ?B/s]\n",
            "100% 28.1k/28.1k [00:00<00:00, 55.4MB/s]\n"
          ]
        }
      ]
    },
    {
      "cell_type": "markdown",
      "source": [
        "import library"
      ],
      "metadata": {
        "id": "cLZdUqGjDxsR"
      }
    },
    {
      "cell_type": "code",
      "source": [
        "import pandas as pd\n",
        "import numpy as np\n",
        "from tqdm.notebook import tqdm\n",
        "import random\n",
        "import math\n",
        "import os\n",
        "import matplotlib.pyplot as plt\n",
        "import string\n",
        "\n",
        "import spacy\n",
        "from spacy.tokens import Doc\n",
        "from spacy import displacy\n",
        "from scipy.sparse import coo_matrix\n",
        "\n",
        "import torch\n",
        "from torch import nn\n",
        "import torch.nn.functional as F\n",
        "from torch.optim import Adam\n",
        "from torch.optim import lr_scheduler\n",
        "from torch_geometric.data import Data\n",
        "\n",
        "from torch_geometric.data import InMemoryDataset\n",
        "from torch_geometric.nn import GCNConv, SAGEConv, GATConv, TransformerConv, GATv2Conv, ChebConv, ResGatedGraphConv\n",
        "import torch_geometric.nn as pyg_nn\n",
        "from torch_geometric.loader import DataLoader"
      ],
      "metadata": {
        "id": "AYATBir1Wik7"
      },
      "execution_count": null,
      "outputs": []
    },
    {
      "cell_type": "markdown",
      "source": [
        "Read the data\n"
      ],
      "metadata": {
        "id": "X4BOEPdTD2_x"
      }
    },
    {
      "cell_type": "code",
      "source": [
        "df_train = pd.read_csv('/content/dataset_spacex.csv')"
      ],
      "metadata": {
        "id": "N4CzNUEEWibd"
      },
      "execution_count": null,
      "outputs": []
    },
    {
      "cell_type": "code",
      "source": [
        "df_train.head()"
      ],
      "metadata": {
        "colab": {
          "base_uri": "https://localhost:8080/",
          "height": 206
        },
        "id": "VlD9Sh7rWiXP",
        "outputId": "b831e7a7-9721-42d6-907a-94976413a4e2"
      },
      "execution_count": null,
      "outputs": [
        {
          "output_type": "execute_result",
          "data": {
            "text/plain": [
              "   Id                                               Text  Subjectivity  \\\n",
              "0   0  SpaceX software team will do an AMA tomorrow on        0.000000   \n",
              "1   1  Targeting Saturday, May 15 at 6:54 p.m. EDT fo...      0.000000   \n",
              "2   2  SpaceX’s fifth high-altitude flight test of St...      0.000000   \n",
              "3   3  First Falcon 9 first stage to complete 10 laun...      0.355556   \n",
              "4   4  Geometric Energy Corporation proudly announces...      0.500000   \n",
              "\n",
              "   Polarity    Target  \n",
              "0       0.0   Neutral  \n",
              "1       0.0   Neutral  \n",
              "2       0.0   Neutral  \n",
              "3       0.2  Positive  \n",
              "4       0.4  Positive  "
            ],
            "text/html": [
              "\n",
              "  <div id=\"df-6c6952a2-fd11-45cc-8b78-0581ca131cb2\" class=\"colab-df-container\">\n",
              "    <div>\n",
              "<style scoped>\n",
              "    .dataframe tbody tr th:only-of-type {\n",
              "        vertical-align: middle;\n",
              "    }\n",
              "\n",
              "    .dataframe tbody tr th {\n",
              "        vertical-align: top;\n",
              "    }\n",
              "\n",
              "    .dataframe thead th {\n",
              "        text-align: right;\n",
              "    }\n",
              "</style>\n",
              "<table border=\"1\" class=\"dataframe\">\n",
              "  <thead>\n",
              "    <tr style=\"text-align: right;\">\n",
              "      <th></th>\n",
              "      <th>Id</th>\n",
              "      <th>Text</th>\n",
              "      <th>Subjectivity</th>\n",
              "      <th>Polarity</th>\n",
              "      <th>Target</th>\n",
              "    </tr>\n",
              "  </thead>\n",
              "  <tbody>\n",
              "    <tr>\n",
              "      <th>0</th>\n",
              "      <td>0</td>\n",
              "      <td>SpaceX software team will do an AMA tomorrow on</td>\n",
              "      <td>0.000000</td>\n",
              "      <td>0.0</td>\n",
              "      <td>Neutral</td>\n",
              "    </tr>\n",
              "    <tr>\n",
              "      <th>1</th>\n",
              "      <td>1</td>\n",
              "      <td>Targeting Saturday, May 15 at 6:54 p.m. EDT fo...</td>\n",
              "      <td>0.000000</td>\n",
              "      <td>0.0</td>\n",
              "      <td>Neutral</td>\n",
              "    </tr>\n",
              "    <tr>\n",
              "      <th>2</th>\n",
              "      <td>2</td>\n",
              "      <td>SpaceX’s fifth high-altitude flight test of St...</td>\n",
              "      <td>0.000000</td>\n",
              "      <td>0.0</td>\n",
              "      <td>Neutral</td>\n",
              "    </tr>\n",
              "    <tr>\n",
              "      <th>3</th>\n",
              "      <td>3</td>\n",
              "      <td>First Falcon 9 first stage to complete 10 laun...</td>\n",
              "      <td>0.355556</td>\n",
              "      <td>0.2</td>\n",
              "      <td>Positive</td>\n",
              "    </tr>\n",
              "    <tr>\n",
              "      <th>4</th>\n",
              "      <td>4</td>\n",
              "      <td>Geometric Energy Corporation proudly announces...</td>\n",
              "      <td>0.500000</td>\n",
              "      <td>0.4</td>\n",
              "      <td>Positive</td>\n",
              "    </tr>\n",
              "  </tbody>\n",
              "</table>\n",
              "</div>\n",
              "    <div class=\"colab-df-buttons\">\n",
              "\n",
              "  <div class=\"colab-df-container\">\n",
              "    <button class=\"colab-df-convert\" onclick=\"convertToInteractive('df-6c6952a2-fd11-45cc-8b78-0581ca131cb2')\"\n",
              "            title=\"Convert this dataframe to an interactive table.\"\n",
              "            style=\"display:none;\">\n",
              "\n",
              "  <svg xmlns=\"http://www.w3.org/2000/svg\" height=\"24px\" viewBox=\"0 -960 960 960\">\n",
              "    <path d=\"M120-120v-720h720v720H120Zm60-500h600v-160H180v160Zm220 220h160v-160H400v160Zm0 220h160v-160H400v160ZM180-400h160v-160H180v160Zm440 0h160v-160H620v160ZM180-180h160v-160H180v160Zm440 0h160v-160H620v160Z\"/>\n",
              "  </svg>\n",
              "    </button>\n",
              "\n",
              "  <style>\n",
              "    .colab-df-container {\n",
              "      display:flex;\n",
              "      gap: 12px;\n",
              "    }\n",
              "\n",
              "    .colab-df-convert {\n",
              "      background-color: #E8F0FE;\n",
              "      border: none;\n",
              "      border-radius: 50%;\n",
              "      cursor: pointer;\n",
              "      display: none;\n",
              "      fill: #1967D2;\n",
              "      height: 32px;\n",
              "      padding: 0 0 0 0;\n",
              "      width: 32px;\n",
              "    }\n",
              "\n",
              "    .colab-df-convert:hover {\n",
              "      background-color: #E2EBFA;\n",
              "      box-shadow: 0px 1px 2px rgba(60, 64, 67, 0.3), 0px 1px 3px 1px rgba(60, 64, 67, 0.15);\n",
              "      fill: #174EA6;\n",
              "    }\n",
              "\n",
              "    .colab-df-buttons div {\n",
              "      margin-bottom: 4px;\n",
              "    }\n",
              "\n",
              "    [theme=dark] .colab-df-convert {\n",
              "      background-color: #3B4455;\n",
              "      fill: #D2E3FC;\n",
              "    }\n",
              "\n",
              "    [theme=dark] .colab-df-convert:hover {\n",
              "      background-color: #434B5C;\n",
              "      box-shadow: 0px 1px 3px 1px rgba(0, 0, 0, 0.15);\n",
              "      filter: drop-shadow(0px 1px 2px rgba(0, 0, 0, 0.3));\n",
              "      fill: #FFFFFF;\n",
              "    }\n",
              "  </style>\n",
              "\n",
              "    <script>\n",
              "      const buttonEl =\n",
              "        document.querySelector('#df-6c6952a2-fd11-45cc-8b78-0581ca131cb2 button.colab-df-convert');\n",
              "      buttonEl.style.display =\n",
              "        google.colab.kernel.accessAllowed ? 'block' : 'none';\n",
              "\n",
              "      async function convertToInteractive(key) {\n",
              "        const element = document.querySelector('#df-6c6952a2-fd11-45cc-8b78-0581ca131cb2');\n",
              "        const dataTable =\n",
              "          await google.colab.kernel.invokeFunction('convertToInteractive',\n",
              "                                                    [key], {});\n",
              "        if (!dataTable) return;\n",
              "\n",
              "        const docLinkHtml = 'Like what you see? Visit the ' +\n",
              "          '<a target=\"_blank\" href=https://colab.research.google.com/notebooks/data_table.ipynb>data table notebook</a>'\n",
              "          + ' to learn more about interactive tables.';\n",
              "        element.innerHTML = '';\n",
              "        dataTable['output_type'] = 'display_data';\n",
              "        await google.colab.output.renderOutput(dataTable, element);\n",
              "        const docLink = document.createElement('div');\n",
              "        docLink.innerHTML = docLinkHtml;\n",
              "        element.appendChild(docLink);\n",
              "      }\n",
              "    </script>\n",
              "  </div>\n",
              "\n",
              "\n",
              "<div id=\"df-2479fe03-a6e2-4aee-9ca0-79e0f092aed4\">\n",
              "  <button class=\"colab-df-quickchart\" onclick=\"quickchart('df-2479fe03-a6e2-4aee-9ca0-79e0f092aed4')\"\n",
              "            title=\"Suggest charts\"\n",
              "            style=\"display:none;\">\n",
              "\n",
              "<svg xmlns=\"http://www.w3.org/2000/svg\" height=\"24px\"viewBox=\"0 0 24 24\"\n",
              "     width=\"24px\">\n",
              "    <g>\n",
              "        <path d=\"M19 3H5c-1.1 0-2 .9-2 2v14c0 1.1.9 2 2 2h14c1.1 0 2-.9 2-2V5c0-1.1-.9-2-2-2zM9 17H7v-7h2v7zm4 0h-2V7h2v10zm4 0h-2v-4h2v4z\"/>\n",
              "    </g>\n",
              "</svg>\n",
              "  </button>\n",
              "\n",
              "<style>\n",
              "  .colab-df-quickchart {\n",
              "      --bg-color: #E8F0FE;\n",
              "      --fill-color: #1967D2;\n",
              "      --hover-bg-color: #E2EBFA;\n",
              "      --hover-fill-color: #174EA6;\n",
              "      --disabled-fill-color: #AAA;\n",
              "      --disabled-bg-color: #DDD;\n",
              "  }\n",
              "\n",
              "  [theme=dark] .colab-df-quickchart {\n",
              "      --bg-color: #3B4455;\n",
              "      --fill-color: #D2E3FC;\n",
              "      --hover-bg-color: #434B5C;\n",
              "      --hover-fill-color: #FFFFFF;\n",
              "      --disabled-bg-color: #3B4455;\n",
              "      --disabled-fill-color: #666;\n",
              "  }\n",
              "\n",
              "  .colab-df-quickchart {\n",
              "    background-color: var(--bg-color);\n",
              "    border: none;\n",
              "    border-radius: 50%;\n",
              "    cursor: pointer;\n",
              "    display: none;\n",
              "    fill: var(--fill-color);\n",
              "    height: 32px;\n",
              "    padding: 0;\n",
              "    width: 32px;\n",
              "  }\n",
              "\n",
              "  .colab-df-quickchart:hover {\n",
              "    background-color: var(--hover-bg-color);\n",
              "    box-shadow: 0 1px 2px rgba(60, 64, 67, 0.3), 0 1px 3px 1px rgba(60, 64, 67, 0.15);\n",
              "    fill: var(--button-hover-fill-color);\n",
              "  }\n",
              "\n",
              "  .colab-df-quickchart-complete:disabled,\n",
              "  .colab-df-quickchart-complete:disabled:hover {\n",
              "    background-color: var(--disabled-bg-color);\n",
              "    fill: var(--disabled-fill-color);\n",
              "    box-shadow: none;\n",
              "  }\n",
              "\n",
              "  .colab-df-spinner {\n",
              "    border: 2px solid var(--fill-color);\n",
              "    border-color: transparent;\n",
              "    border-bottom-color: var(--fill-color);\n",
              "    animation:\n",
              "      spin 1s steps(1) infinite;\n",
              "  }\n",
              "\n",
              "  @keyframes spin {\n",
              "    0% {\n",
              "      border-color: transparent;\n",
              "      border-bottom-color: var(--fill-color);\n",
              "      border-left-color: var(--fill-color);\n",
              "    }\n",
              "    20% {\n",
              "      border-color: transparent;\n",
              "      border-left-color: var(--fill-color);\n",
              "      border-top-color: var(--fill-color);\n",
              "    }\n",
              "    30% {\n",
              "      border-color: transparent;\n",
              "      border-left-color: var(--fill-color);\n",
              "      border-top-color: var(--fill-color);\n",
              "      border-right-color: var(--fill-color);\n",
              "    }\n",
              "    40% {\n",
              "      border-color: transparent;\n",
              "      border-right-color: var(--fill-color);\n",
              "      border-top-color: var(--fill-color);\n",
              "    }\n",
              "    60% {\n",
              "      border-color: transparent;\n",
              "      border-right-color: var(--fill-color);\n",
              "    }\n",
              "    80% {\n",
              "      border-color: transparent;\n",
              "      border-right-color: var(--fill-color);\n",
              "      border-bottom-color: var(--fill-color);\n",
              "    }\n",
              "    90% {\n",
              "      border-color: transparent;\n",
              "      border-bottom-color: var(--fill-color);\n",
              "    }\n",
              "  }\n",
              "</style>\n",
              "\n",
              "  <script>\n",
              "    async function quickchart(key) {\n",
              "      const quickchartButtonEl =\n",
              "        document.querySelector('#' + key + ' button');\n",
              "      quickchartButtonEl.disabled = true;  // To prevent multiple clicks.\n",
              "      quickchartButtonEl.classList.add('colab-df-spinner');\n",
              "      try {\n",
              "        const charts = await google.colab.kernel.invokeFunction(\n",
              "            'suggestCharts', [key], {});\n",
              "      } catch (error) {\n",
              "        console.error('Error during call to suggestCharts:', error);\n",
              "      }\n",
              "      quickchartButtonEl.classList.remove('colab-df-spinner');\n",
              "      quickchartButtonEl.classList.add('colab-df-quickchart-complete');\n",
              "    }\n",
              "    (() => {\n",
              "      let quickchartButtonEl =\n",
              "        document.querySelector('#df-2479fe03-a6e2-4aee-9ca0-79e0f092aed4 button');\n",
              "      quickchartButtonEl.style.display =\n",
              "        google.colab.kernel.accessAllowed ? 'block' : 'none';\n",
              "    })();\n",
              "  </script>\n",
              "</div>\n",
              "\n",
              "    </div>\n",
              "  </div>\n"
            ],
            "application/vnd.google.colaboratory.intrinsic+json": {
              "type": "dataframe",
              "variable_name": "df_train",
              "summary": "{\n  \"name\": \"df_train\",\n  \"rows\": 941,\n  \"fields\": [\n    {\n      \"column\": \"Id\",\n      \"properties\": {\n        \"dtype\": \"number\",\n        \"std\": 306,\n        \"min\": 0,\n        \"max\": 1065,\n        \"num_unique_values\": 941,\n        \"samples\": [\n          388,\n          660,\n          472\n        ],\n        \"semantic_type\": \"\",\n        \"description\": \"\"\n      }\n    },\n    {\n      \"column\": \"Text\",\n      \"properties\": {\n        \"dtype\": \"string\",\n        \"num_unique_values\": 941,\n        \"samples\": [\n          \"Ms. Tree caught a Falcon 9 fairing half! \",\n          \"Second stage engine cutoff confirmed, now in coast phase; webcast will return in about 35 minutes\",\n          \"Watch Falcon 9 launch 58 Starlink satellites and 3  SkySats \\u2192   \"\n        ],\n        \"semantic_type\": \"\",\n        \"description\": \"\"\n      }\n    },\n    {\n      \"column\": \"Subjectivity\",\n      \"properties\": {\n        \"dtype\": \"number\",\n        \"std\": 0.3051090934814482,\n        \"min\": 0.0,\n        \"max\": 1.0,\n        \"num_unique_values\": 104,\n        \"samples\": [\n          0.425,\n          0.975,\n          0.476515152\n        ],\n        \"semantic_type\": \"\",\n        \"description\": \"\"\n      }\n    },\n    {\n      \"column\": \"Polarity\",\n      \"properties\": {\n        \"dtype\": \"number\",\n        \"std\": 0.21500199522294985,\n        \"min\": -0.4,\n        \"max\": 1.0,\n        \"num_unique_values\": 116,\n        \"samples\": [\n          0.875,\n          -0.3,\n          0.068181818\n        ],\n        \"semantic_type\": \"\",\n        \"description\": \"\"\n      }\n    },\n    {\n      \"column\": \"Target\",\n      \"properties\": {\n        \"dtype\": \"category\",\n        \"num_unique_values\": 3,\n        \"samples\": [\n          \"Neutral\",\n          \"Positive\",\n          \"Negative\"\n        ],\n        \"semantic_type\": \"\",\n        \"description\": \"\"\n      }\n    }\n  ]\n}"
            }
          },
          "metadata": {},
          "execution_count": 38
        }
      ]
    },
    {
      "cell_type": "code",
      "source": [
        "df_train = pd.concat([df_train, df_train[\"Target\"].str.get_dummies()], axis=1, join='inner')\n",
        "df_train.drop([\"Target\"], axis=1, inplace=True)\n",
        "df_train.head()"
      ],
      "metadata": {
        "colab": {
          "base_uri": "https://localhost:8080/",
          "height": 206
        },
        "id": "EhnqhB1wWFvL",
        "outputId": "798a2e56-df31-41c1-dfde-7fe0c92e3940"
      },
      "execution_count": null,
      "outputs": [
        {
          "output_type": "execute_result",
          "data": {
            "text/plain": [
              "   Id                                               Text  Subjectivity  \\\n",
              "0   0  SpaceX software team will do an AMA tomorrow on        0.000000   \n",
              "1   1  Targeting Saturday, May 15 at 6:54 p.m. EDT fo...      0.000000   \n",
              "2   2  SpaceX’s fifth high-altitude flight test of St...      0.000000   \n",
              "3   3  First Falcon 9 first stage to complete 10 laun...      0.355556   \n",
              "4   4  Geometric Energy Corporation proudly announces...      0.500000   \n",
              "\n",
              "   Polarity  Negative  Neutral  Positive  \n",
              "0       0.0         0        1         0  \n",
              "1       0.0         0        1         0  \n",
              "2       0.0         0        1         0  \n",
              "3       0.2         0        0         1  \n",
              "4       0.4         0        0         1  "
            ],
            "text/html": [
              "\n",
              "  <div id=\"df-4b85145a-ade0-4eac-af7c-d57061e8ea7c\" class=\"colab-df-container\">\n",
              "    <div>\n",
              "<style scoped>\n",
              "    .dataframe tbody tr th:only-of-type {\n",
              "        vertical-align: middle;\n",
              "    }\n",
              "\n",
              "    .dataframe tbody tr th {\n",
              "        vertical-align: top;\n",
              "    }\n",
              "\n",
              "    .dataframe thead th {\n",
              "        text-align: right;\n",
              "    }\n",
              "</style>\n",
              "<table border=\"1\" class=\"dataframe\">\n",
              "  <thead>\n",
              "    <tr style=\"text-align: right;\">\n",
              "      <th></th>\n",
              "      <th>Id</th>\n",
              "      <th>Text</th>\n",
              "      <th>Subjectivity</th>\n",
              "      <th>Polarity</th>\n",
              "      <th>Negative</th>\n",
              "      <th>Neutral</th>\n",
              "      <th>Positive</th>\n",
              "    </tr>\n",
              "  </thead>\n",
              "  <tbody>\n",
              "    <tr>\n",
              "      <th>0</th>\n",
              "      <td>0</td>\n",
              "      <td>SpaceX software team will do an AMA tomorrow on</td>\n",
              "      <td>0.000000</td>\n",
              "      <td>0.0</td>\n",
              "      <td>0</td>\n",
              "      <td>1</td>\n",
              "      <td>0</td>\n",
              "    </tr>\n",
              "    <tr>\n",
              "      <th>1</th>\n",
              "      <td>1</td>\n",
              "      <td>Targeting Saturday, May 15 at 6:54 p.m. EDT fo...</td>\n",
              "      <td>0.000000</td>\n",
              "      <td>0.0</td>\n",
              "      <td>0</td>\n",
              "      <td>1</td>\n",
              "      <td>0</td>\n",
              "    </tr>\n",
              "    <tr>\n",
              "      <th>2</th>\n",
              "      <td>2</td>\n",
              "      <td>SpaceX’s fifth high-altitude flight test of St...</td>\n",
              "      <td>0.000000</td>\n",
              "      <td>0.0</td>\n",
              "      <td>0</td>\n",
              "      <td>1</td>\n",
              "      <td>0</td>\n",
              "    </tr>\n",
              "    <tr>\n",
              "      <th>3</th>\n",
              "      <td>3</td>\n",
              "      <td>First Falcon 9 first stage to complete 10 laun...</td>\n",
              "      <td>0.355556</td>\n",
              "      <td>0.2</td>\n",
              "      <td>0</td>\n",
              "      <td>0</td>\n",
              "      <td>1</td>\n",
              "    </tr>\n",
              "    <tr>\n",
              "      <th>4</th>\n",
              "      <td>4</td>\n",
              "      <td>Geometric Energy Corporation proudly announces...</td>\n",
              "      <td>0.500000</td>\n",
              "      <td>0.4</td>\n",
              "      <td>0</td>\n",
              "      <td>0</td>\n",
              "      <td>1</td>\n",
              "    </tr>\n",
              "  </tbody>\n",
              "</table>\n",
              "</div>\n",
              "    <div class=\"colab-df-buttons\">\n",
              "\n",
              "  <div class=\"colab-df-container\">\n",
              "    <button class=\"colab-df-convert\" onclick=\"convertToInteractive('df-4b85145a-ade0-4eac-af7c-d57061e8ea7c')\"\n",
              "            title=\"Convert this dataframe to an interactive table.\"\n",
              "            style=\"display:none;\">\n",
              "\n",
              "  <svg xmlns=\"http://www.w3.org/2000/svg\" height=\"24px\" viewBox=\"0 -960 960 960\">\n",
              "    <path d=\"M120-120v-720h720v720H120Zm60-500h600v-160H180v160Zm220 220h160v-160H400v160Zm0 220h160v-160H400v160ZM180-400h160v-160H180v160Zm440 0h160v-160H620v160ZM180-180h160v-160H180v160Zm440 0h160v-160H620v160Z\"/>\n",
              "  </svg>\n",
              "    </button>\n",
              "\n",
              "  <style>\n",
              "    .colab-df-container {\n",
              "      display:flex;\n",
              "      gap: 12px;\n",
              "    }\n",
              "\n",
              "    .colab-df-convert {\n",
              "      background-color: #E8F0FE;\n",
              "      border: none;\n",
              "      border-radius: 50%;\n",
              "      cursor: pointer;\n",
              "      display: none;\n",
              "      fill: #1967D2;\n",
              "      height: 32px;\n",
              "      padding: 0 0 0 0;\n",
              "      width: 32px;\n",
              "    }\n",
              "\n",
              "    .colab-df-convert:hover {\n",
              "      background-color: #E2EBFA;\n",
              "      box-shadow: 0px 1px 2px rgba(60, 64, 67, 0.3), 0px 1px 3px 1px rgba(60, 64, 67, 0.15);\n",
              "      fill: #174EA6;\n",
              "    }\n",
              "\n",
              "    .colab-df-buttons div {\n",
              "      margin-bottom: 4px;\n",
              "    }\n",
              "\n",
              "    [theme=dark] .colab-df-convert {\n",
              "      background-color: #3B4455;\n",
              "      fill: #D2E3FC;\n",
              "    }\n",
              "\n",
              "    [theme=dark] .colab-df-convert:hover {\n",
              "      background-color: #434B5C;\n",
              "      box-shadow: 0px 1px 3px 1px rgba(0, 0, 0, 0.15);\n",
              "      filter: drop-shadow(0px 1px 2px rgba(0, 0, 0, 0.3));\n",
              "      fill: #FFFFFF;\n",
              "    }\n",
              "  </style>\n",
              "\n",
              "    <script>\n",
              "      const buttonEl =\n",
              "        document.querySelector('#df-4b85145a-ade0-4eac-af7c-d57061e8ea7c button.colab-df-convert');\n",
              "      buttonEl.style.display =\n",
              "        google.colab.kernel.accessAllowed ? 'block' : 'none';\n",
              "\n",
              "      async function convertToInteractive(key) {\n",
              "        const element = document.querySelector('#df-4b85145a-ade0-4eac-af7c-d57061e8ea7c');\n",
              "        const dataTable =\n",
              "          await google.colab.kernel.invokeFunction('convertToInteractive',\n",
              "                                                    [key], {});\n",
              "        if (!dataTable) return;\n",
              "\n",
              "        const docLinkHtml = 'Like what you see? Visit the ' +\n",
              "          '<a target=\"_blank\" href=https://colab.research.google.com/notebooks/data_table.ipynb>data table notebook</a>'\n",
              "          + ' to learn more about interactive tables.';\n",
              "        element.innerHTML = '';\n",
              "        dataTable['output_type'] = 'display_data';\n",
              "        await google.colab.output.renderOutput(dataTable, element);\n",
              "        const docLink = document.createElement('div');\n",
              "        docLink.innerHTML = docLinkHtml;\n",
              "        element.appendChild(docLink);\n",
              "      }\n",
              "    </script>\n",
              "  </div>\n",
              "\n",
              "\n",
              "<div id=\"df-165c04dd-7eeb-4bec-a5a7-b9604b92024a\">\n",
              "  <button class=\"colab-df-quickchart\" onclick=\"quickchart('df-165c04dd-7eeb-4bec-a5a7-b9604b92024a')\"\n",
              "            title=\"Suggest charts\"\n",
              "            style=\"display:none;\">\n",
              "\n",
              "<svg xmlns=\"http://www.w3.org/2000/svg\" height=\"24px\"viewBox=\"0 0 24 24\"\n",
              "     width=\"24px\">\n",
              "    <g>\n",
              "        <path d=\"M19 3H5c-1.1 0-2 .9-2 2v14c0 1.1.9 2 2 2h14c1.1 0 2-.9 2-2V5c0-1.1-.9-2-2-2zM9 17H7v-7h2v7zm4 0h-2V7h2v10zm4 0h-2v-4h2v4z\"/>\n",
              "    </g>\n",
              "</svg>\n",
              "  </button>\n",
              "\n",
              "<style>\n",
              "  .colab-df-quickchart {\n",
              "      --bg-color: #E8F0FE;\n",
              "      --fill-color: #1967D2;\n",
              "      --hover-bg-color: #E2EBFA;\n",
              "      --hover-fill-color: #174EA6;\n",
              "      --disabled-fill-color: #AAA;\n",
              "      --disabled-bg-color: #DDD;\n",
              "  }\n",
              "\n",
              "  [theme=dark] .colab-df-quickchart {\n",
              "      --bg-color: #3B4455;\n",
              "      --fill-color: #D2E3FC;\n",
              "      --hover-bg-color: #434B5C;\n",
              "      --hover-fill-color: #FFFFFF;\n",
              "      --disabled-bg-color: #3B4455;\n",
              "      --disabled-fill-color: #666;\n",
              "  }\n",
              "\n",
              "  .colab-df-quickchart {\n",
              "    background-color: var(--bg-color);\n",
              "    border: none;\n",
              "    border-radius: 50%;\n",
              "    cursor: pointer;\n",
              "    display: none;\n",
              "    fill: var(--fill-color);\n",
              "    height: 32px;\n",
              "    padding: 0;\n",
              "    width: 32px;\n",
              "  }\n",
              "\n",
              "  .colab-df-quickchart:hover {\n",
              "    background-color: var(--hover-bg-color);\n",
              "    box-shadow: 0 1px 2px rgba(60, 64, 67, 0.3), 0 1px 3px 1px rgba(60, 64, 67, 0.15);\n",
              "    fill: var(--button-hover-fill-color);\n",
              "  }\n",
              "\n",
              "  .colab-df-quickchart-complete:disabled,\n",
              "  .colab-df-quickchart-complete:disabled:hover {\n",
              "    background-color: var(--disabled-bg-color);\n",
              "    fill: var(--disabled-fill-color);\n",
              "    box-shadow: none;\n",
              "  }\n",
              "\n",
              "  .colab-df-spinner {\n",
              "    border: 2px solid var(--fill-color);\n",
              "    border-color: transparent;\n",
              "    border-bottom-color: var(--fill-color);\n",
              "    animation:\n",
              "      spin 1s steps(1) infinite;\n",
              "  }\n",
              "\n",
              "  @keyframes spin {\n",
              "    0% {\n",
              "      border-color: transparent;\n",
              "      border-bottom-color: var(--fill-color);\n",
              "      border-left-color: var(--fill-color);\n",
              "    }\n",
              "    20% {\n",
              "      border-color: transparent;\n",
              "      border-left-color: var(--fill-color);\n",
              "      border-top-color: var(--fill-color);\n",
              "    }\n",
              "    30% {\n",
              "      border-color: transparent;\n",
              "      border-left-color: var(--fill-color);\n",
              "      border-top-color: var(--fill-color);\n",
              "      border-right-color: var(--fill-color);\n",
              "    }\n",
              "    40% {\n",
              "      border-color: transparent;\n",
              "      border-right-color: var(--fill-color);\n",
              "      border-top-color: var(--fill-color);\n",
              "    }\n",
              "    60% {\n",
              "      border-color: transparent;\n",
              "      border-right-color: var(--fill-color);\n",
              "    }\n",
              "    80% {\n",
              "      border-color: transparent;\n",
              "      border-right-color: var(--fill-color);\n",
              "      border-bottom-color: var(--fill-color);\n",
              "    }\n",
              "    90% {\n",
              "      border-color: transparent;\n",
              "      border-bottom-color: var(--fill-color);\n",
              "    }\n",
              "  }\n",
              "</style>\n",
              "\n",
              "  <script>\n",
              "    async function quickchart(key) {\n",
              "      const quickchartButtonEl =\n",
              "        document.querySelector('#' + key + ' button');\n",
              "      quickchartButtonEl.disabled = true;  // To prevent multiple clicks.\n",
              "      quickchartButtonEl.classList.add('colab-df-spinner');\n",
              "      try {\n",
              "        const charts = await google.colab.kernel.invokeFunction(\n",
              "            'suggestCharts', [key], {});\n",
              "      } catch (error) {\n",
              "        console.error('Error during call to suggestCharts:', error);\n",
              "      }\n",
              "      quickchartButtonEl.classList.remove('colab-df-spinner');\n",
              "      quickchartButtonEl.classList.add('colab-df-quickchart-complete');\n",
              "    }\n",
              "    (() => {\n",
              "      let quickchartButtonEl =\n",
              "        document.querySelector('#df-165c04dd-7eeb-4bec-a5a7-b9604b92024a button');\n",
              "      quickchartButtonEl.style.display =\n",
              "        google.colab.kernel.accessAllowed ? 'block' : 'none';\n",
              "    })();\n",
              "  </script>\n",
              "</div>\n",
              "\n",
              "    </div>\n",
              "  </div>\n"
            ],
            "application/vnd.google.colaboratory.intrinsic+json": {
              "type": "dataframe",
              "variable_name": "df_train",
              "summary": "{\n  \"name\": \"df_train\",\n  \"rows\": 941,\n  \"fields\": [\n    {\n      \"column\": \"Id\",\n      \"properties\": {\n        \"dtype\": \"number\",\n        \"std\": 306,\n        \"min\": 0,\n        \"max\": 1065,\n        \"num_unique_values\": 941,\n        \"samples\": [\n          388,\n          660,\n          472\n        ],\n        \"semantic_type\": \"\",\n        \"description\": \"\"\n      }\n    },\n    {\n      \"column\": \"Text\",\n      \"properties\": {\n        \"dtype\": \"string\",\n        \"num_unique_values\": 941,\n        \"samples\": [\n          \"Ms. Tree caught a Falcon 9 fairing half! \",\n          \"Second stage engine cutoff confirmed, now in coast phase; webcast will return in about 35 minutes\",\n          \"Watch Falcon 9 launch 58 Starlink satellites and 3  SkySats \\u2192   \"\n        ],\n        \"semantic_type\": \"\",\n        \"description\": \"\"\n      }\n    },\n    {\n      \"column\": \"Subjectivity\",\n      \"properties\": {\n        \"dtype\": \"number\",\n        \"std\": 0.3051090934814482,\n        \"min\": 0.0,\n        \"max\": 1.0,\n        \"num_unique_values\": 104,\n        \"samples\": [\n          0.425,\n          0.975,\n          0.476515152\n        ],\n        \"semantic_type\": \"\",\n        \"description\": \"\"\n      }\n    },\n    {\n      \"column\": \"Polarity\",\n      \"properties\": {\n        \"dtype\": \"number\",\n        \"std\": 0.21500199522294985,\n        \"min\": -0.4,\n        \"max\": 1.0,\n        \"num_unique_values\": 116,\n        \"samples\": [\n          0.875,\n          -0.3,\n          0.068181818\n        ],\n        \"semantic_type\": \"\",\n        \"description\": \"\"\n      }\n    },\n    {\n      \"column\": \"Negative\",\n      \"properties\": {\n        \"dtype\": \"number\",\n        \"std\": 0,\n        \"min\": 0,\n        \"max\": 1,\n        \"num_unique_values\": 2,\n        \"samples\": [\n          1,\n          0\n        ],\n        \"semantic_type\": \"\",\n        \"description\": \"\"\n      }\n    },\n    {\n      \"column\": \"Neutral\",\n      \"properties\": {\n        \"dtype\": \"number\",\n        \"std\": 0,\n        \"min\": 0,\n        \"max\": 1,\n        \"num_unique_values\": 2,\n        \"samples\": [\n          0,\n          1\n        ],\n        \"semantic_type\": \"\",\n        \"description\": \"\"\n      }\n    },\n    {\n      \"column\": \"Positive\",\n      \"properties\": {\n        \"dtype\": \"number\",\n        \"std\": 0,\n        \"min\": 0,\n        \"max\": 1,\n        \"num_unique_values\": 2,\n        \"samples\": [\n          1,\n          0\n        ],\n        \"semantic_type\": \"\",\n        \"description\": \"\"\n      }\n    }\n  ]\n}"
            }
          },
          "metadata": {},
          "execution_count": 39
        }
      ]
    },
    {
      "cell_type": "code",
      "source": [
        "target_col_names = df_train.columns[-3:].tolist()\n",
        "target_col_names"
      ],
      "metadata": {
        "colab": {
          "base_uri": "https://localhost:8080/"
        },
        "id": "TucEWhxVX6gX",
        "outputId": "dcaf7f6c-f66d-466c-b5e7-717da035b214"
      },
      "execution_count": null,
      "outputs": [
        {
          "output_type": "execute_result",
          "data": {
            "text/plain": [
              "['Negative', 'Neutral', 'Positive']"
            ]
          },
          "metadata": {},
          "execution_count": 57
        }
      ]
    },
    {
      "cell_type": "markdown",
      "source": [
        "Build a tokenizer and dependency graph"
      ],
      "metadata": {
        "id": "ImF426cugpQ5"
      }
    },
    {
      "cell_type": "code",
      "source": [
        "class Tokenizer(object):\n",
        "    def __init__(self, word2idx=None, nlp_model=\"en_core_web_sm\"):\n",
        "        # https://spacy.io/docs/usage/processing-text\n",
        "        self.nlp = spacy.load(nlp_model)\n",
        "        if word2idx is None:\n",
        "            self.word2idx = {}\n",
        "            self.idx2word = {}\n",
        "            self.idx = 0\n",
        "            self.word2idx['<pad>'] = self.idx  # '<pad>': 0\n",
        "            self.idx2word[self.idx] = '<pad>'\n",
        "            self.idx += 1\n",
        "            self.word2idx['<unk>'] = self.idx  # '<unk>': 1\n",
        "            self.idx2word[self.idx] = '<unk>'\n",
        "            self.idx += 1\n",
        "        else:\n",
        "            self.word2idx = word2idx\n",
        "            self.idx2word = {v:k for k,v in word2idx.items()}\n",
        "\n",
        "    def fit_on_doc(self, doc:spacy.tokens.doc.Doc):\n",
        "        for word in doc:\n",
        "            word = str(word).lower()\n",
        "            if word not in self.word2idx:\n",
        "                self.word2idx[word] = self.idx\n",
        "                self.idx2word[self.idx] = word\n",
        "                self.idx += 1\n",
        "\n",
        "    def text_to_doc(self, text):\n",
        "        return self.nlp(text)\n",
        "\n",
        "    def doc_to_sequence(self, doc:spacy.tokens.doc.Doc):\n",
        "        sequence = []\n",
        "        for w in doc:\n",
        "            w = str(w).lower()\n",
        "            word_id = self.word2idx.get(w, -1)\n",
        "            if word_id == -1:\n",
        "                word_id = self.word2idx['<unk>']\n",
        "            sequence.append(word_id)\n",
        "        if len(sequence) == 0:\n",
        "            sequence = [0]\n",
        "        return np.array(sequence, dtype=np.int32)\n",
        "\n",
        "\n",
        "    def doc_to_adj(self, doc:spacy.tokens.doc.Doc):\n",
        "        matrix = np.zeros((len(doc), len(doc))).astype('int32')\n",
        "        for token in doc:\n",
        "            for child in token.children:\n",
        "                matrix[token.i][child.i] = 1\n",
        "                matrix[child.i][token.i] = 1\n",
        "        return matrix\n"
      ],
      "metadata": {
        "id": "9-Lw6AJkYFGw"
      },
      "execution_count": null,
      "outputs": []
    },
    {
      "cell_type": "code",
      "source": [
        "tokenizer = Tokenizer()"
      ],
      "metadata": {
        "id": "u9ShleOHYFCq"
      },
      "execution_count": null,
      "outputs": []
    },
    {
      "cell_type": "code",
      "source": [
        "idx2graph = {}\n",
        "for i in tqdm(range(df_train.shape[0])):\n",
        "    text = df_train.Text[i].lower().replace(\"\\n\", \"\").strip()\n",
        "    doc = tokenizer.text_to_doc(text)\n",
        "    tokenizer.fit_on_doc(doc)\n",
        "    adj_matrix = tokenizer.doc_to_adj(doc)\n",
        "    coo = coo_matrix(adj_matrix)\n",
        "    idx2graph[i] = np.array([coo.row, coo.col], dtype=np.int32)"
      ],
      "metadata": {
        "colab": {
          "base_uri": "https://localhost:8080/",
          "height": 49,
          "referenced_widgets": [
            "2d6b72f1338d4c39832078338d86c0bb",
            "ae439ba458b04d55b2659d55e44cabe5",
            "c08476dea1314610b85beba3fb3864a7",
            "7181031610a14cf289df3c7ae1edf55c",
            "f8216d176a2344dda1f9cadb9fc04dba",
            "37f12dc5844b49bb8b997fa2c3669c5c",
            "943130acc1354b34a15f12ef7284a79e",
            "f8f0f51e2fbd4cec849fdc54ea87f547",
            "933ab5fadb334d98a74ab634f7d93e39",
            "d1ef5e811299482f8d209cd35484e323",
            "fd62e052e4aa4c1296243f246e9f2086"
          ]
        },
        "id": "ZBHtqZNvYE5C",
        "outputId": "a798079a-678d-481d-dc10-88cc1586c11b"
      },
      "execution_count": null,
      "outputs": [
        {
          "output_type": "display_data",
          "data": {
            "text/plain": [
              "  0%|          | 0/941 [00:00<?, ?it/s]"
            ],
            "application/vnd.jupyter.widget-view+json": {
              "version_major": 2,
              "version_minor": 0,
              "model_id": "2d6b72f1338d4c39832078338d86c0bb"
            }
          },
          "metadata": {}
        }
      ]
    },
    {
      "cell_type": "code",
      "source": [
        "idx2graph[0]"
      ],
      "metadata": {
        "colab": {
          "base_uri": "https://localhost:8080/"
        },
        "id": "HlRjLvdwg26s",
        "outputId": "80c57317-9447-40b9-9aff-c75442ba5b3d"
      },
      "execution_count": null,
      "outputs": [
        {
          "output_type": "execute_result",
          "data": {
            "text/plain": [
              "array([[0, 1, 2, 2, 2, 3, 4, 4, 4, 4, 4, 5, 6, 6, 7, 8],\n",
              "       [2, 2, 0, 1, 4, 4, 2, 3, 6, 7, 8, 6, 4, 5, 4, 4]], dtype=int32)"
            ]
          },
          "metadata": {},
          "execution_count": 46
        }
      ]
    },
    {
      "cell_type": "code",
      "source": [
        "idx2graph[0].shape"
      ],
      "metadata": {
        "colab": {
          "base_uri": "https://localhost:8080/"
        },
        "id": "2wgrt5oVhM7u",
        "outputId": "cb8f76ff-652c-4ec5-d3c6-e5fcd31891da"
      },
      "execution_count": null,
      "outputs": [
        {
          "output_type": "execute_result",
          "data": {
            "text/plain": [
              "(2, 16)"
            ]
          },
          "metadata": {},
          "execution_count": 47
        }
      ]
    },
    {
      "cell_type": "code",
      "source": [
        "text = df_train.Text[0].lower().replace(\"\\n\", \"\").strip()\n",
        "doc = tokenizer.nlp(text)\n",
        "print (\"{:<15} | {:<8} | {:<15} | {:<20}\".format('Token','Relation','Head', 'Spacex'))\n",
        "print (\"-\" * 70)\n",
        "for token in doc:\n",
        "  print (\"{:<15} | {:<8} | {:<15} | {:<20}\"\n",
        "         .format(str(token.text), str(token.dep_), str(token.head.text), str([child for child in token.children])))"
      ],
      "metadata": {
        "colab": {
          "base_uri": "https://localhost:8080/"
        },
        "id": "Rj3LJZyRhM4Z",
        "outputId": "a112cca7-969b-4a59-d454-f8fd1431e2f8"
      },
      "execution_count": null,
      "outputs": [
        {
          "output_type": "stream",
          "name": "stdout",
          "text": [
            "Token           | Relation | Head            | Spacex              \n",
            "----------------------------------------------------------------------\n",
            "spacex          | compound | team            | []                  \n",
            "software        | compound | team            | []                  \n",
            "team            | nsubj    | do              | [spacex, software]  \n",
            "will            | aux      | do              | []                  \n",
            "do              | ROOT     | do              | [team, will, ama, tomorrow, on]\n",
            "an              | det      | ama             | []                  \n",
            "ama             | dobj     | do              | [an]                \n",
            "tomorrow        | npadvmod | do              | []                  \n",
            "on              | prep     | do              | []                  \n"
          ]
        }
      ]
    },
    {
      "cell_type": "code",
      "source": [
        "displacy.render(doc, style='dep', jupyter=True)"
      ],
      "metadata": {
        "colab": {
          "base_uri": "https://localhost:8080/",
          "height": 529
        },
        "id": "GjbkElPwhM1T",
        "outputId": "b524f636-0c9f-441f-b859-94de5b3b854f"
      },
      "execution_count": null,
      "outputs": [
        {
          "output_type": "display_data",
          "data": {
            "text/plain": [
              "<IPython.core.display.HTML object>"
            ],
            "text/html": [
              "<span class=\"tex2jax_ignore\"><svg xmlns=\"http://www.w3.org/2000/svg\" xmlns:xlink=\"http://www.w3.org/1999/xlink\" xml:lang=\"en\" id=\"f8c167cbbc6d448ca37e621602a0c639-0\" class=\"displacy\" width=\"1625\" height=\"487.0\" direction=\"ltr\" style=\"max-width: none; height: 487.0px; color: #000000; background: #ffffff; font-family: Arial; direction: ltr\">\n",
              "<text class=\"displacy-token\" fill=\"currentColor\" text-anchor=\"middle\" y=\"397.0\">\n",
              "    <tspan class=\"displacy-word\" fill=\"currentColor\" x=\"50\">spacex</tspan>\n",
              "    <tspan class=\"displacy-tag\" dy=\"2em\" fill=\"currentColor\" x=\"50\">VERB</tspan>\n",
              "</text>\n",
              "\n",
              "<text class=\"displacy-token\" fill=\"currentColor\" text-anchor=\"middle\" y=\"397.0\">\n",
              "    <tspan class=\"displacy-word\" fill=\"currentColor\" x=\"225\">software</tspan>\n",
              "    <tspan class=\"displacy-tag\" dy=\"2em\" fill=\"currentColor\" x=\"225\">NOUN</tspan>\n",
              "</text>\n",
              "\n",
              "<text class=\"displacy-token\" fill=\"currentColor\" text-anchor=\"middle\" y=\"397.0\">\n",
              "    <tspan class=\"displacy-word\" fill=\"currentColor\" x=\"400\">team</tspan>\n",
              "    <tspan class=\"displacy-tag\" dy=\"2em\" fill=\"currentColor\" x=\"400\">NOUN</tspan>\n",
              "</text>\n",
              "\n",
              "<text class=\"displacy-token\" fill=\"currentColor\" text-anchor=\"middle\" y=\"397.0\">\n",
              "    <tspan class=\"displacy-word\" fill=\"currentColor\" x=\"575\">will</tspan>\n",
              "    <tspan class=\"displacy-tag\" dy=\"2em\" fill=\"currentColor\" x=\"575\">AUX</tspan>\n",
              "</text>\n",
              "\n",
              "<text class=\"displacy-token\" fill=\"currentColor\" text-anchor=\"middle\" y=\"397.0\">\n",
              "    <tspan class=\"displacy-word\" fill=\"currentColor\" x=\"750\">do</tspan>\n",
              "    <tspan class=\"displacy-tag\" dy=\"2em\" fill=\"currentColor\" x=\"750\">VERB</tspan>\n",
              "</text>\n",
              "\n",
              "<text class=\"displacy-token\" fill=\"currentColor\" text-anchor=\"middle\" y=\"397.0\">\n",
              "    <tspan class=\"displacy-word\" fill=\"currentColor\" x=\"925\">an</tspan>\n",
              "    <tspan class=\"displacy-tag\" dy=\"2em\" fill=\"currentColor\" x=\"925\">DET</tspan>\n",
              "</text>\n",
              "\n",
              "<text class=\"displacy-token\" fill=\"currentColor\" text-anchor=\"middle\" y=\"397.0\">\n",
              "    <tspan class=\"displacy-word\" fill=\"currentColor\" x=\"1100\">ama</tspan>\n",
              "    <tspan class=\"displacy-tag\" dy=\"2em\" fill=\"currentColor\" x=\"1100\">NOUN</tspan>\n",
              "</text>\n",
              "\n",
              "<text class=\"displacy-token\" fill=\"currentColor\" text-anchor=\"middle\" y=\"397.0\">\n",
              "    <tspan class=\"displacy-word\" fill=\"currentColor\" x=\"1275\">tomorrow</tspan>\n",
              "    <tspan class=\"displacy-tag\" dy=\"2em\" fill=\"currentColor\" x=\"1275\">NOUN</tspan>\n",
              "</text>\n",
              "\n",
              "<text class=\"displacy-token\" fill=\"currentColor\" text-anchor=\"middle\" y=\"397.0\">\n",
              "    <tspan class=\"displacy-word\" fill=\"currentColor\" x=\"1450\">on</tspan>\n",
              "    <tspan class=\"displacy-tag\" dy=\"2em\" fill=\"currentColor\" x=\"1450\">ADP</tspan>\n",
              "</text>\n",
              "\n",
              "<g class=\"displacy-arrow\">\n",
              "    <path class=\"displacy-arc\" id=\"arrow-f8c167cbbc6d448ca37e621602a0c639-0-0\" stroke-width=\"2px\" d=\"M70,352.0 C70,177.0 390.0,177.0 390.0,352.0\" fill=\"none\" stroke=\"currentColor\"/>\n",
              "    <text dy=\"1.25em\" style=\"font-size: 0.8em; letter-spacing: 1px\">\n",
              "        <textPath xlink:href=\"#arrow-f8c167cbbc6d448ca37e621602a0c639-0-0\" class=\"displacy-label\" startOffset=\"50%\" side=\"left\" fill=\"currentColor\" text-anchor=\"middle\">compound</textPath>\n",
              "    </text>\n",
              "    <path class=\"displacy-arrowhead\" d=\"M70,354.0 L62,342.0 78,342.0\" fill=\"currentColor\"/>\n",
              "</g>\n",
              "\n",
              "<g class=\"displacy-arrow\">\n",
              "    <path class=\"displacy-arc\" id=\"arrow-f8c167cbbc6d448ca37e621602a0c639-0-1\" stroke-width=\"2px\" d=\"M245,352.0 C245,264.5 385.0,264.5 385.0,352.0\" fill=\"none\" stroke=\"currentColor\"/>\n",
              "    <text dy=\"1.25em\" style=\"font-size: 0.8em; letter-spacing: 1px\">\n",
              "        <textPath xlink:href=\"#arrow-f8c167cbbc6d448ca37e621602a0c639-0-1\" class=\"displacy-label\" startOffset=\"50%\" side=\"left\" fill=\"currentColor\" text-anchor=\"middle\">compound</textPath>\n",
              "    </text>\n",
              "    <path class=\"displacy-arrowhead\" d=\"M245,354.0 L237,342.0 253,342.0\" fill=\"currentColor\"/>\n",
              "</g>\n",
              "\n",
              "<g class=\"displacy-arrow\">\n",
              "    <path class=\"displacy-arc\" id=\"arrow-f8c167cbbc6d448ca37e621602a0c639-0-2\" stroke-width=\"2px\" d=\"M420,352.0 C420,177.0 740.0,177.0 740.0,352.0\" fill=\"none\" stroke=\"currentColor\"/>\n",
              "    <text dy=\"1.25em\" style=\"font-size: 0.8em; letter-spacing: 1px\">\n",
              "        <textPath xlink:href=\"#arrow-f8c167cbbc6d448ca37e621602a0c639-0-2\" class=\"displacy-label\" startOffset=\"50%\" side=\"left\" fill=\"currentColor\" text-anchor=\"middle\">nsubj</textPath>\n",
              "    </text>\n",
              "    <path class=\"displacy-arrowhead\" d=\"M420,354.0 L412,342.0 428,342.0\" fill=\"currentColor\"/>\n",
              "</g>\n",
              "\n",
              "<g class=\"displacy-arrow\">\n",
              "    <path class=\"displacy-arc\" id=\"arrow-f8c167cbbc6d448ca37e621602a0c639-0-3\" stroke-width=\"2px\" d=\"M595,352.0 C595,264.5 735.0,264.5 735.0,352.0\" fill=\"none\" stroke=\"currentColor\"/>\n",
              "    <text dy=\"1.25em\" style=\"font-size: 0.8em; letter-spacing: 1px\">\n",
              "        <textPath xlink:href=\"#arrow-f8c167cbbc6d448ca37e621602a0c639-0-3\" class=\"displacy-label\" startOffset=\"50%\" side=\"left\" fill=\"currentColor\" text-anchor=\"middle\">aux</textPath>\n",
              "    </text>\n",
              "    <path class=\"displacy-arrowhead\" d=\"M595,354.0 L587,342.0 603,342.0\" fill=\"currentColor\"/>\n",
              "</g>\n",
              "\n",
              "<g class=\"displacy-arrow\">\n",
              "    <path class=\"displacy-arc\" id=\"arrow-f8c167cbbc6d448ca37e621602a0c639-0-4\" stroke-width=\"2px\" d=\"M945,352.0 C945,264.5 1085.0,264.5 1085.0,352.0\" fill=\"none\" stroke=\"currentColor\"/>\n",
              "    <text dy=\"1.25em\" style=\"font-size: 0.8em; letter-spacing: 1px\">\n",
              "        <textPath xlink:href=\"#arrow-f8c167cbbc6d448ca37e621602a0c639-0-4\" class=\"displacy-label\" startOffset=\"50%\" side=\"left\" fill=\"currentColor\" text-anchor=\"middle\">det</textPath>\n",
              "    </text>\n",
              "    <path class=\"displacy-arrowhead\" d=\"M945,354.0 L937,342.0 953,342.0\" fill=\"currentColor\"/>\n",
              "</g>\n",
              "\n",
              "<g class=\"displacy-arrow\">\n",
              "    <path class=\"displacy-arc\" id=\"arrow-f8c167cbbc6d448ca37e621602a0c639-0-5\" stroke-width=\"2px\" d=\"M770,352.0 C770,177.0 1090.0,177.0 1090.0,352.0\" fill=\"none\" stroke=\"currentColor\"/>\n",
              "    <text dy=\"1.25em\" style=\"font-size: 0.8em; letter-spacing: 1px\">\n",
              "        <textPath xlink:href=\"#arrow-f8c167cbbc6d448ca37e621602a0c639-0-5\" class=\"displacy-label\" startOffset=\"50%\" side=\"left\" fill=\"currentColor\" text-anchor=\"middle\">dobj</textPath>\n",
              "    </text>\n",
              "    <path class=\"displacy-arrowhead\" d=\"M1090.0,354.0 L1098.0,342.0 1082.0,342.0\" fill=\"currentColor\"/>\n",
              "</g>\n",
              "\n",
              "<g class=\"displacy-arrow\">\n",
              "    <path class=\"displacy-arc\" id=\"arrow-f8c167cbbc6d448ca37e621602a0c639-0-6\" stroke-width=\"2px\" d=\"M770,352.0 C770,89.5 1270.0,89.5 1270.0,352.0\" fill=\"none\" stroke=\"currentColor\"/>\n",
              "    <text dy=\"1.25em\" style=\"font-size: 0.8em; letter-spacing: 1px\">\n",
              "        <textPath xlink:href=\"#arrow-f8c167cbbc6d448ca37e621602a0c639-0-6\" class=\"displacy-label\" startOffset=\"50%\" side=\"left\" fill=\"currentColor\" text-anchor=\"middle\">npadvmod</textPath>\n",
              "    </text>\n",
              "    <path class=\"displacy-arrowhead\" d=\"M1270.0,354.0 L1278.0,342.0 1262.0,342.0\" fill=\"currentColor\"/>\n",
              "</g>\n",
              "\n",
              "<g class=\"displacy-arrow\">\n",
              "    <path class=\"displacy-arc\" id=\"arrow-f8c167cbbc6d448ca37e621602a0c639-0-7\" stroke-width=\"2px\" d=\"M770,352.0 C770,2.0 1450.0,2.0 1450.0,352.0\" fill=\"none\" stroke=\"currentColor\"/>\n",
              "    <text dy=\"1.25em\" style=\"font-size: 0.8em; letter-spacing: 1px\">\n",
              "        <textPath xlink:href=\"#arrow-f8c167cbbc6d448ca37e621602a0c639-0-7\" class=\"displacy-label\" startOffset=\"50%\" side=\"left\" fill=\"currentColor\" text-anchor=\"middle\">prep</textPath>\n",
              "    </text>\n",
              "    <path class=\"displacy-arrowhead\" d=\"M1450.0,354.0 L1458.0,342.0 1442.0,342.0\" fill=\"currentColor\"/>\n",
              "</g>\n",
              "</svg></span>"
            ]
          },
          "metadata": {}
        }
      ]
    },
    {
      "cell_type": "markdown",
      "source": [
        "Build the embedding"
      ],
      "metadata": {
        "id": "-Ni_D6mZhY1O"
      }
    },
    {
      "cell_type": "code",
      "source": [
        "def load_word_vec(path, word2idx=None, embed_dim=300):\n",
        "    fin = open(path, 'r', encoding='utf-8', newline='\\n', errors='ignore')\n",
        "    word_vec = {}\n",
        "    for line in fin:\n",
        "        tokens = line.rstrip().split()\n",
        "        word, vec = ' '.join(tokens[:-embed_dim]), tokens[-embed_dim:]\n",
        "        if word in word2idx.keys():\n",
        "            word_vec[word] = np.array(vec, dtype=np.float32)\n",
        "    return word_vec\n",
        "\n",
        "def build_embedding_matrix(word2idx, embed_dim=300):\n",
        "    embedding_matrix = np.zeros((len(word2idx), embed_dim))\n",
        "    embedding_matrix[1, :] = np.random.uniform(-1/np.sqrt(embed_dim), 1/np.sqrt(embed_dim), (1, embed_dim))\n",
        "\n",
        "    fname = '../content/glove.840B.300d.txt'\n",
        "    word_vec = load_word_vec(fname, word2idx=word2idx, embed_dim=embed_dim)\n",
        "\n",
        "    for word, i in word2idx.items():\n",
        "        vec = word_vec.get(word)\n",
        "        if vec is not None:\n",
        "            embedding_matrix[i] = vec\n",
        "\n",
        "    return embedding_matrix"
      ],
      "metadata": {
        "id": "4HGDR9x5hMx0"
      },
      "execution_count": null,
      "outputs": []
    },
    {
      "cell_type": "code",
      "source": [
        "embedding_matrix = build_embedding_matrix(tokenizer.word2idx, 300)"
      ],
      "metadata": {
        "id": "0YmHiosdhMuN"
      },
      "execution_count": null,
      "outputs": []
    },
    {
      "cell_type": "code",
      "source": [
        "embedding_matrix.shape"
      ],
      "metadata": {
        "colab": {
          "base_uri": "https://localhost:8080/"
        },
        "id": "hkAUSwKmhMp2",
        "outputId": "5c1ea178-c071-4a45-c963-e8a2ff23cdce"
      },
      "execution_count": null,
      "outputs": [
        {
          "output_type": "execute_result",
          "data": {
            "text/plain": [
              "(1806, 300)"
            ]
          },
          "metadata": {},
          "execution_count": 52
        }
      ]
    },
    {
      "cell_type": "markdown",
      "source": [
        "Dataset"
      ],
      "metadata": {
        "id": "014Lbd3Vh1s_"
      }
    },
    {
      "cell_type": "code",
      "source": [
        "class MyTrainDataset(InMemoryDataset):\n",
        "\n",
        "  def __init__(self, root, transform=None, pre_transform=None, pre_filter=None):\n",
        "    super().__init__(root, transform, pre_transform, pre_filter)\n",
        "    self.data, self.slices = torch.load(self.processed_paths[0])\n",
        "\n",
        "  @property\n",
        "  def raw_dir(self):\n",
        "    return \"/content\"\n",
        "\n",
        "  @property\n",
        "  def processed_dir(self):\n",
        "    return os.path.join(self.root, \"train_processed\")\n",
        "\n",
        "\n",
        "  @property\n",
        "  def raw_file_names(self):   # -> List[str]:\n",
        "    return ['dataset_spacex.csv']\n",
        "\n",
        "\n",
        "  @property\n",
        "  def processed_file_names(self) -> str:\n",
        "    return ['data.pt']\n",
        "\n",
        "  def download(self):\n",
        "    pass\n",
        "\n",
        "\n",
        "  def process(self):\n",
        "    data_list = self.read_data()\n",
        "\n",
        "    if self.pre_filter is not None:\n",
        "      data_list = [data for data in data_list if self.pre_filter(data)]\n",
        "\n",
        "    if self.pre_transform is not None:\n",
        "      data_list = [self.pre_transform(data) for data in data_list]\n",
        "\n",
        "    data, slices = self.collate(data_list)\n",
        "    torch.save((data, slices), self.processed_paths[0])\n",
        "\n",
        "\n",
        "  def read_data(self):\n",
        "    df_train = pd.read_csv(self.raw_paths[0])\n",
        "    all_data = []\n",
        "\n",
        "    for i in range(df_train.shape[0]):\n",
        "      text = df_train.Text[i].lower().replace(\"\\n\", \"\").strip()\n",
        "\n",
        "      #df_train.Text[0].lower().replace(\"\\n\", \"\").strip()\n",
        "\n",
        "\n",
        "      doc = tokenizer.text_to_doc(text)\n",
        "\n",
        "      input_ids = tokenizer.doc_to_sequence(doc)\n",
        "\n",
        "      label = df_train.loc[i, ['Subjectivity']].to_list()\n",
        "      x = torch.tensor(input_ids.reshape(-1, 1), dtype=torch.int32)\n",
        "      edge_index  = torch.tensor(idx2graph[i], dtype=torch.long)\n",
        "      y = torch.tensor(np.array(label), dtype=torch.float32).reshape(-1, 1)\n",
        "      data = Data(x=x, edge_index=edge_index, y=y)\n",
        "\n",
        "      all_data.append(data)\n",
        "\n",
        "\n",
        "\n",
        "    return all_data"
      ],
      "metadata": {
        "id": "WN5mNIfKh2U0"
      },
      "execution_count": null,
      "outputs": []
    },
    {
      "cell_type": "code",
      "source": [
        "dataset = MyTrainDataset(root = \"data/\")"
      ],
      "metadata": {
        "colab": {
          "base_uri": "https://localhost:8080/"
        },
        "id": "GHuHTmknjJSH",
        "outputId": "9d087aeb-444b-49b1-d50a-1720b0ddce75"
      },
      "execution_count": null,
      "outputs": [
        {
          "output_type": "stream",
          "name": "stderr",
          "text": [
            "Processing...\n",
            "Done!\n"
          ]
        }
      ]
    },
    {
      "cell_type": "code",
      "source": [
        "print(dataset.raw_paths, dataset.processed_paths)"
      ],
      "metadata": {
        "colab": {
          "base_uri": "https://localhost:8080/"
        },
        "id": "8XU_KTXEoGHa",
        "outputId": "fe165b79-a86d-4bfc-8ec9-9caaea8d72bf"
      },
      "execution_count": null,
      "outputs": [
        {
          "output_type": "stream",
          "name": "stdout",
          "text": [
            "['/content/dataset_spacex.csv'] ['data/train_processed/data.pt']\n"
          ]
        }
      ]
    },
    {
      "cell_type": "code",
      "source": [
        "dataset.data"
      ],
      "metadata": {
        "colab": {
          "base_uri": "https://localhost:8080/"
        },
        "id": "qBuXEqHAjJLe",
        "outputId": "e781f8af-8426-457e-e473-3b2988826d2f"
      },
      "execution_count": null,
      "outputs": [
        {
          "output_type": "stream",
          "name": "stderr",
          "text": [
            "/usr/local/lib/python3.10/dist-packages/torch_geometric/data/in_memory_dataset.py:300: UserWarning: It is not recommended to directly access the internal storage format `data` of an 'InMemoryDataset'. The given 'InMemoryDataset' only references a subset of examples of the full dataset, but 'data' will contain information of the full dataset. The data of the dataset is already cached, so any modifications to `data` will not be reflected when accessing its elements. Clearing the cache now by removing all elements in `dataset._data_list`. If you are absolutely certain what you are doing, access the internal storage via `InMemoryDataset._data` instead to suppress this warning. Alternatively, you can access stacked individual attributes of every graph via `dataset.{attr_name}`.\n",
            "  warnings.warn(msg)\n"
          ]
        },
        {
          "output_type": "execute_result",
          "data": {
            "text/plain": [
              "Data(x=[15499, 1], edge_index=[2, 28596], y=[941, 1])"
            ]
          },
          "metadata": {},
          "execution_count": 71
        }
      ]
    },
    {
      "cell_type": "code",
      "source": [
        "dataset[0]"
      ],
      "metadata": {
        "colab": {
          "base_uri": "https://localhost:8080/"
        },
        "id": "c3CZTZLwjJHT",
        "outputId": "e570849b-392d-4495-df27-d4722db324ea"
      },
      "execution_count": null,
      "outputs": [
        {
          "output_type": "execute_result",
          "data": {
            "text/plain": [
              "Data(x=[24, 1], edge_index=[2, 46], y=[1, 1])"
            ]
          },
          "metadata": {},
          "execution_count": 72
        }
      ]
    },
    {
      "cell_type": "code",
      "source": [
        "dataset[0].y"
      ],
      "metadata": {
        "colab": {
          "base_uri": "https://localhost:8080/"
        },
        "id": "oUagu-EbjI-P",
        "outputId": "14d36d58-0113-49ff-f887-684191e8c775"
      },
      "execution_count": null,
      "outputs": [
        {
          "output_type": "execute_result",
          "data": {
            "text/plain": [
              "tensor([[0.5000]])"
            ]
          },
          "metadata": {},
          "execution_count": 73
        }
      ]
    },
    {
      "cell_type": "code",
      "source": [
        "dataset = dataset.shuffle()\n",
        "train_len = int(0.8*len(dataset))\n",
        "train_dataset = dataset[:train_len]\n",
        "val_dataset = dataset[train_len:]\n",
        "print(len(train_dataset), len(val_dataset))"
      ],
      "metadata": {
        "colab": {
          "base_uri": "https://localhost:8080/"
        },
        "id": "pJasNnXQkpRk",
        "outputId": "29737bd1-dc33-4149-b107-9cf9a6c2b89e"
      },
      "execution_count": null,
      "outputs": [
        {
          "output_type": "stream",
          "name": "stdout",
          "text": [
            "752 189\n"
          ]
        }
      ]
    },
    {
      "cell_type": "code",
      "source": [
        "train_loader = DataLoader(train_dataset, batch_size=128, shuffle=True)\n",
        "val_loader = DataLoader(val_dataset, batch_size=128)"
      ],
      "metadata": {
        "id": "3HfyVnQYlFK5"
      },
      "execution_count": null,
      "outputs": []
    },
    {
      "cell_type": "code",
      "source": [
        "for i in train_loader:\n",
        "    print(i)"
      ],
      "metadata": {
        "colab": {
          "base_uri": "https://localhost:8080/"
        },
        "id": "IwziXBUulFHg",
        "outputId": "9d8c7224-102a-4a68-ce39-2055926b102b"
      },
      "execution_count": null,
      "outputs": [
        {
          "output_type": "stream",
          "name": "stdout",
          "text": [
            "DataBatch(x=[2078, 1], edge_index=[2, 3850], y=[128, 1], batch=[2078], ptr=[129])\n",
            "DataBatch(x=[2101, 1], edge_index=[2, 3864], y=[128, 1], batch=[2101], ptr=[129])\n",
            "DataBatch(x=[2173, 1], edge_index=[2, 4008], y=[128, 1], batch=[2173], ptr=[129])\n",
            "DataBatch(x=[2242, 1], edge_index=[2, 4148], y=[128, 1], batch=[2242], ptr=[129])\n",
            "DataBatch(x=[2046, 1], edge_index=[2, 3776], y=[128, 1], batch=[2046], ptr=[129])\n",
            "DataBatch(x=[1894, 1], edge_index=[2, 3508], y=[112, 1], batch=[1894], ptr=[113])\n"
          ]
        }
      ]
    },
    {
      "cell_type": "markdown",
      "source": [
        "Create Model\n"
      ],
      "metadata": {
        "id": "nTQuOeShENk7"
      }
    },
    {
      "cell_type": "code",
      "source": [
        "class FeedbackModel(nn.Module):\n",
        "  def __init__(self, embedding_matrix):\n",
        "\n",
        "    super(FeedbackModel, self).__init__()\n",
        "\n",
        "    self.embed = nn.Embedding.from_pretrained(torch.tensor(embedding_matrix, dtype=torch.float), freeze=False)\n",
        "\n",
        "    self.gc1   = GCNConv(300, 128)\n",
        "    self.pool1 = pyg_nn.TopKPooling(128, ratio=0.8)\n",
        "    self.gc2   = GCNConv(128, 128)\n",
        "    self.pool2 = pyg_nn.TopKPooling(128, ratio=0.8)\n",
        "    self.lin1  = nn.Linear(256, 64)\n",
        "    self.lin2  = nn.Linear(64, 1)\n",
        "\n",
        "  def forward(self, data):\n",
        "    x, edge_index, batch = data.x, data.edge_index, data.batch\n",
        "\n",
        "    x = x.squeeze(1)\n",
        "    x = self.embed(x)\n",
        "\n",
        "    x = F.relu(self.gc1(x, edge_index))\n",
        "    x, edge_index, edge_attr, batch, perm, score = self.pool1(x, edge_index, None, batch)\n",
        "    x1 = torch.cat([pyg_nn.global_max_pool(x, batch), pyg_nn.global_mean_pool(x, batch)], dim=1)\n",
        "\n",
        "    x = F.relu(self.gc2(x, edge_index))\n",
        "    x, edge_index, edge_attr, batch, perm, score = self.pool2(x, edge_index, None, batch)\n",
        "    x2 = torch.cat([pyg_nn.global_max_pool(x, batch), pyg_nn.global_mean_pool(x, batch)], dim=1)\n",
        "\n",
        "    x = x1 + x2\n",
        "    # x, hn = self.gru(x, None)\n",
        "    x = F.relu(self.lin1(x))\n",
        "    x = F.dropout(x, p=0.5, training=self.training)\n",
        "    output = F.relu(self.lin2(x))\n",
        "\n",
        "    return output"
      ],
      "metadata": {
        "id": "H6Zil9FalFEG"
      },
      "execution_count": null,
      "outputs": []
    },
    {
      "cell_type": "code",
      "source": [
        "model = FeedbackModel(embedding_matrix)\n",
        "model"
      ],
      "metadata": {
        "colab": {
          "base_uri": "https://localhost:8080/"
        },
        "id": "0TE5_mW7lFAU",
        "outputId": "6399dd8d-9c8c-4529-a7c4-0be8179d5510"
      },
      "execution_count": null,
      "outputs": [
        {
          "output_type": "execute_result",
          "data": {
            "text/plain": [
              "FeedbackModel(\n",
              "  (embed): Embedding(1806, 300)\n",
              "  (gc1): GCNConv(300, 128)\n",
              "  (pool1): TopKPooling(128, ratio=0.8, multiplier=1.0)\n",
              "  (gc2): GCNConv(128, 128)\n",
              "  (pool2): TopKPooling(128, ratio=0.8, multiplier=1.0)\n",
              "  (lin1): Linear(in_features=256, out_features=64, bias=True)\n",
              "  (lin2): Linear(in_features=64, out_features=1, bias=True)\n",
              ")"
            ]
          },
          "metadata": {},
          "execution_count": 79
        }
      ]
    },
    {
      "cell_type": "code",
      "source": [
        "epochs = 100\n",
        "\n",
        "criterion = nn.MSELoss()\n",
        "optimizer = Adam(model.parameters(), lr=1e-5)\n",
        "scheduler = lr_scheduler.ReduceLROnPlateau(optimizer, mode='min', factor=0.1, patience=6)\n",
        "\n",
        "device = torch.device(\"cuda\" if torch.cuda.is_available() else \"cpu\")\n",
        "model.to(device)\n",
        "criterion.to(device)"
      ],
      "metadata": {
        "colab": {
          "base_uri": "https://localhost:8080/"
        },
        "id": "FW3z-yqYlW1e",
        "outputId": "ff93f8ad-7907-4043-b667-eaa669325af2"
      },
      "execution_count": null,
      "outputs": [
        {
          "output_type": "execute_result",
          "data": {
            "text/plain": [
              "MSELoss()"
            ]
          },
          "metadata": {},
          "execution_count": 95
        }
      ]
    },
    {
      "cell_type": "markdown",
      "source": [
        "Train"
      ],
      "metadata": {
        "id": "UZYonbNmEUvz"
      }
    },
    {
      "cell_type": "code",
      "source": [
        "total_loss = []\n",
        "for epoch_num in range(epochs):\n",
        "  model.train()\n",
        "  total_loss_train = 0\n",
        "  for sample_batched in train_loader:\n",
        "    sample_batched = sample_batched.to(device)\n",
        "    optimizer.zero_grad()\n",
        "    outputs = model(sample_batched)\n",
        "    label = sample_batched.y.to(device)\n",
        "#   print(outputs.shape, label.shape)\n",
        "    loss = criterion(outputs, label)\n",
        "    loss.backward()\n",
        "    total_loss_train += loss.item()\n",
        "    optimizer.step()\n",
        "\n",
        "  model.eval()\n",
        "  total_loss_val = 0\n",
        "  with torch.no_grad():\n",
        "    for sample_batched in val_loader:\n",
        "      sample_batched = sample_batched.to(device)\n",
        "      outputs = model(sample_batched)\n",
        "      label = sample_batched.y.to(device)\n",
        "      loss = criterion(outputs, label)\n",
        "      total_loss_val += loss.item()\n",
        "\n",
        "    scheduler.step(total_loss_val / len(val_dataset))\n",
        "\n",
        "    print(f'Epoch: %02.0f | Train Loss: {total_loss_train / len(train_dataset): .3f} | Val Loss: {total_loss_val / len(val_dataset): .3f}' % (epoch_num + 1))\n",
        "\n",
        "    total_loss.append([total_loss_train / len(train_dataset), total_loss_val / len(val_dataset)])"
      ],
      "metadata": {
        "colab": {
          "base_uri": "https://localhost:8080/"
        },
        "id": "U7ucBJJnlbAx",
        "outputId": "4bb76bdd-4553-4090-8820-7a7a35905ece"
      },
      "execution_count": null,
      "outputs": [
        {
          "output_type": "stream",
          "name": "stdout",
          "text": [
            "Epoch: 01 | Train Loss:  0.000 | Val Loss:  0.001\n",
            "Epoch: 02 | Train Loss:  0.000 | Val Loss:  0.001\n",
            "Epoch: 03 | Train Loss:  0.000 | Val Loss:  0.001\n",
            "Epoch: 04 | Train Loss:  0.000 | Val Loss:  0.001\n",
            "Epoch: 05 | Train Loss:  0.000 | Val Loss:  0.001\n",
            "Epoch: 06 | Train Loss:  0.000 | Val Loss:  0.001\n",
            "Epoch: 07 | Train Loss:  0.000 | Val Loss:  0.001\n",
            "Epoch: 08 | Train Loss:  0.000 | Val Loss:  0.001\n",
            "Epoch: 09 | Train Loss:  0.000 | Val Loss:  0.001\n",
            "Epoch: 10 | Train Loss:  0.000 | Val Loss:  0.001\n",
            "Epoch: 11 | Train Loss:  0.000 | Val Loss:  0.001\n",
            "Epoch: 12 | Train Loss:  0.000 | Val Loss:  0.001\n",
            "Epoch: 13 | Train Loss:  0.000 | Val Loss:  0.001\n",
            "Epoch: 14 | Train Loss:  0.000 | Val Loss:  0.001\n",
            "Epoch: 15 | Train Loss:  0.000 | Val Loss:  0.001\n",
            "Epoch: 16 | Train Loss:  0.000 | Val Loss:  0.001\n",
            "Epoch: 17 | Train Loss:  0.000 | Val Loss:  0.001\n",
            "Epoch: 18 | Train Loss:  0.000 | Val Loss:  0.001\n",
            "Epoch: 19 | Train Loss:  0.000 | Val Loss:  0.001\n",
            "Epoch: 20 | Train Loss:  0.000 | Val Loss:  0.001\n",
            "Epoch: 21 | Train Loss:  0.000 | Val Loss:  0.001\n",
            "Epoch: 22 | Train Loss:  0.000 | Val Loss:  0.001\n",
            "Epoch: 23 | Train Loss:  0.000 | Val Loss:  0.001\n",
            "Epoch: 24 | Train Loss:  0.000 | Val Loss:  0.001\n",
            "Epoch: 25 | Train Loss:  0.000 | Val Loss:  0.001\n",
            "Epoch: 26 | Train Loss:  0.000 | Val Loss:  0.001\n",
            "Epoch: 27 | Train Loss:  0.000 | Val Loss:  0.001\n",
            "Epoch: 28 | Train Loss:  0.000 | Val Loss:  0.001\n",
            "Epoch: 29 | Train Loss:  0.000 | Val Loss:  0.001\n",
            "Epoch: 30 | Train Loss:  0.000 | Val Loss:  0.001\n",
            "Epoch: 31 | Train Loss:  0.000 | Val Loss:  0.001\n",
            "Epoch: 32 | Train Loss:  0.000 | Val Loss:  0.001\n",
            "Epoch: 33 | Train Loss:  0.000 | Val Loss:  0.001\n",
            "Epoch: 34 | Train Loss:  0.000 | Val Loss:  0.001\n",
            "Epoch: 35 | Train Loss:  0.000 | Val Loss:  0.001\n",
            "Epoch: 36 | Train Loss:  0.000 | Val Loss:  0.001\n",
            "Epoch: 37 | Train Loss:  0.000 | Val Loss:  0.001\n",
            "Epoch: 38 | Train Loss:  0.000 | Val Loss:  0.001\n",
            "Epoch: 39 | Train Loss:  0.000 | Val Loss:  0.001\n",
            "Epoch: 40 | Train Loss:  0.000 | Val Loss:  0.001\n",
            "Epoch: 41 | Train Loss:  0.000 | Val Loss:  0.001\n",
            "Epoch: 42 | Train Loss:  0.000 | Val Loss:  0.001\n",
            "Epoch: 43 | Train Loss:  0.000 | Val Loss:  0.001\n",
            "Epoch: 44 | Train Loss:  0.000 | Val Loss:  0.001\n",
            "Epoch: 45 | Train Loss:  0.000 | Val Loss:  0.001\n",
            "Epoch: 46 | Train Loss:  0.000 | Val Loss:  0.001\n",
            "Epoch: 47 | Train Loss:  0.000 | Val Loss:  0.001\n",
            "Epoch: 48 | Train Loss:  0.000 | Val Loss:  0.001\n",
            "Epoch: 49 | Train Loss:  0.000 | Val Loss:  0.001\n",
            "Epoch: 50 | Train Loss:  0.000 | Val Loss:  0.001\n",
            "Epoch: 51 | Train Loss:  0.000 | Val Loss:  0.001\n",
            "Epoch: 52 | Train Loss:  0.000 | Val Loss:  0.001\n",
            "Epoch: 53 | Train Loss:  0.000 | Val Loss:  0.000\n",
            "Epoch: 54 | Train Loss:  0.000 | Val Loss:  0.000\n",
            "Epoch: 55 | Train Loss:  0.000 | Val Loss:  0.000\n",
            "Epoch: 56 | Train Loss:  0.000 | Val Loss:  0.000\n",
            "Epoch: 57 | Train Loss:  0.000 | Val Loss:  0.000\n",
            "Epoch: 58 | Train Loss:  0.000 | Val Loss:  0.000\n",
            "Epoch: 59 | Train Loss:  0.000 | Val Loss:  0.000\n",
            "Epoch: 60 | Train Loss:  0.000 | Val Loss:  0.000\n",
            "Epoch: 61 | Train Loss:  0.000 | Val Loss:  0.000\n",
            "Epoch: 62 | Train Loss:  0.000 | Val Loss:  0.000\n",
            "Epoch: 63 | Train Loss:  0.000 | Val Loss:  0.000\n",
            "Epoch: 64 | Train Loss:  0.000 | Val Loss:  0.000\n",
            "Epoch: 65 | Train Loss:  0.000 | Val Loss:  0.000\n",
            "Epoch: 66 | Train Loss:  0.000 | Val Loss:  0.000\n",
            "Epoch: 67 | Train Loss:  0.000 | Val Loss:  0.000\n",
            "Epoch: 68 | Train Loss:  0.000 | Val Loss:  0.000\n",
            "Epoch: 69 | Train Loss:  0.000 | Val Loss:  0.000\n",
            "Epoch: 70 | Train Loss:  0.000 | Val Loss:  0.000\n",
            "Epoch: 71 | Train Loss:  0.000 | Val Loss:  0.000\n",
            "Epoch: 72 | Train Loss:  0.000 | Val Loss:  0.000\n",
            "Epoch: 73 | Train Loss:  0.000 | Val Loss:  0.000\n",
            "Epoch: 74 | Train Loss:  0.000 | Val Loss:  0.000\n",
            "Epoch: 75 | Train Loss:  0.000 | Val Loss:  0.000\n",
            "Epoch: 76 | Train Loss:  0.000 | Val Loss:  0.000\n",
            "Epoch: 77 | Train Loss:  0.000 | Val Loss:  0.000\n",
            "Epoch: 78 | Train Loss:  0.000 | Val Loss:  0.000\n",
            "Epoch: 79 | Train Loss:  0.000 | Val Loss:  0.000\n",
            "Epoch: 80 | Train Loss:  0.000 | Val Loss:  0.000\n",
            "Epoch: 81 | Train Loss:  0.000 | Val Loss:  0.000\n",
            "Epoch: 82 | Train Loss:  0.000 | Val Loss:  0.000\n",
            "Epoch: 83 | Train Loss:  0.000 | Val Loss:  0.000\n",
            "Epoch: 84 | Train Loss:  0.000 | Val Loss:  0.000\n",
            "Epoch: 85 | Train Loss:  0.000 | Val Loss:  0.000\n",
            "Epoch: 86 | Train Loss:  0.000 | Val Loss:  0.000\n",
            "Epoch: 87 | Train Loss:  0.000 | Val Loss:  0.000\n",
            "Epoch: 88 | Train Loss:  0.000 | Val Loss:  0.000\n",
            "Epoch: 89 | Train Loss:  0.000 | Val Loss:  0.000\n",
            "Epoch: 90 | Train Loss:  0.000 | Val Loss:  0.000\n",
            "Epoch: 91 | Train Loss:  0.000 | Val Loss:  0.000\n",
            "Epoch: 92 | Train Loss:  0.000 | Val Loss:  0.000\n",
            "Epoch: 93 | Train Loss:  0.000 | Val Loss:  0.000\n",
            "Epoch: 94 | Train Loss:  0.000 | Val Loss:  0.000\n",
            "Epoch: 95 | Train Loss:  0.000 | Val Loss:  0.000\n",
            "Epoch: 96 | Train Loss:  0.000 | Val Loss:  0.000\n",
            "Epoch: 97 | Train Loss:  0.000 | Val Loss:  0.000\n",
            "Epoch: 98 | Train Loss:  0.000 | Val Loss:  0.000\n",
            "Epoch: 99 | Train Loss:  0.000 | Val Loss:  0.000\n",
            "Epoch: 100 | Train Loss:  0.000 | Val Loss:  0.000\n"
          ]
        }
      ]
    },
    {
      "cell_type": "code",
      "source": [
        "total_loss = np.array(total_loss, dtype=np.float32)"
      ],
      "metadata": {
        "id": "B_PpBIWylf6S"
      },
      "execution_count": null,
      "outputs": []
    },
    {
      "cell_type": "code",
      "source": [
        "plt.figure()\n",
        "plt.xlabel(\"epoch\")\n",
        "plt.ylabel(\"loss\")\n",
        "plt.plot(total_loss[:,0], '-', label=\"train\")\n",
        "plt.plot(total_loss[:,1], '-', label=\"val\")\n",
        "plt.legend()\n",
        "plt.grid(True)\n",
        "plt.show()"
      ],
      "metadata": {
        "colab": {
          "base_uri": "https://localhost:8080/",
          "height": 449
        },
        "id": "L8e9CIZBlwTs",
        "outputId": "80d63283-58b8-4b4c-af2f-5fb0c32368b3"
      },
      "execution_count": null,
      "outputs": [
        {
          "output_type": "display_data",
          "data": {
            "text/plain": [
              "<Figure size 640x480 with 1 Axes>"
            ],
            "image/png": "[encoded data removed]"
          },
          "metadata": {}
        }
      ]
    },
    {
      "cell_type": "code",
      "source": [],
      "metadata": {
        "id": "-u6tw2vilz8k"
      },
      "execution_count": null,
      "outputs": []
    }
  ]
}